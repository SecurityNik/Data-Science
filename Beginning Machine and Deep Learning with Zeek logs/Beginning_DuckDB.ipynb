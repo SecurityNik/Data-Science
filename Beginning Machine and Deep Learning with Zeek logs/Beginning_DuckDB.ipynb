{
 "cells": [
  {
   "cell_type": "markdown",
   "metadata": {},
   "source": [
    "### Beginning DuckDB  \n",
    "In this post, I am documenting my learning about DuckDB.   \n",
    "\n",
    "DuckDB is a relational database that supports the SQL language. Think about your common database solution such as MySQL, etc. However, it lives mostly in memory. No need to connect to a remote destination IP and port. If working with data already written to the disk, then just point duckdb to the **.duckdb** file.\n",
    "\n",
    "DuckDB is considered a columnar database. While most of us may work with Pandas dataframe directly, DuckDB allows us to run SQL queries against those Pandas DataFrame if needed similarly to what you would have done against a remote SQL database.  \n",
    "\n",
    "We are able to run queries on data whether that data is on our locally or remotely. \n",
    "\n",
    "DuckDB is very useful in environments where there is not much memory  \n"
   ]
  },
  {
   "cell_type": "code",
   "execution_count": 2,
   "metadata": {},
   "outputs": [
    {
     "name": "stdout",
     "output_type": "stream",
     "text": [
      "Using pip 24.2 from /home/securitynik/miniconda3/envs/main_playground/lib/python3.12/site-packages/pip (python 3.12)\n",
      "Requirement already satisfied: duckdb in /home/securitynik/miniconda3/envs/main_playground/lib/python3.12/site-packages (1.1.3)\n"
     ]
    }
   ],
   "source": [
    "# First up, let's install DuckDB\n",
    "!pip install duckdb --upgrade --verbose --no-cache-dir"
   ]
  },
  {
   "cell_type": "code",
   "execution_count": 3,
   "metadata": {},
   "outputs": [],
   "source": [
    "# With DuckDB installed, let's import the library\n",
    "import duckdb"
   ]
  },
  {
   "cell_type": "code",
   "execution_count": 4,
   "metadata": {},
   "outputs": [
    {
     "data": {
      "text/plain": [
       "'1.1.3'"
      ]
     },
     "execution_count": 4,
     "metadata": {},
     "output_type": "execute_result"
    }
   ],
   "source": [
    "# Let's get the duckdb version\n",
    "duckdb.__version__"
   ]
  },
  {
   "cell_type": "code",
   "execution_count": 5,
   "metadata": {},
   "outputs": [
    {
     "data": {
      "text/plain": [
       "┌─────────────────┬────────────┐\n",
       "│ library_version │ source_id  │\n",
       "│     varchar     │  varchar   │\n",
       "├─────────────────┼────────────┤\n",
       "│ v1.1.3          │ 19864453f7 │\n",
       "└─────────────────┴────────────┘"
      ]
     },
     "execution_count": 5,
     "metadata": {},
     "output_type": "execute_result"
    }
   ],
   "source": [
    "# Or alternatively\n",
    "duckdb.sql(query='CALL pragma_version()')"
   ]
  },
  {
   "cell_type": "code",
   "execution_count": 6,
   "metadata": {},
   "outputs": [
    {
     "data": {
      "text/plain": [
       "┌──────────────────┐\n",
       "│     platform     │\n",
       "│     varchar      │\n",
       "├──────────────────┤\n",
       "│ linux_amd64_gcc4 │\n",
       "└──────────────────┘"
      ]
     },
     "execution_count": 6,
     "metadata": {},
     "output_type": "execute_result"
    }
   ],
   "source": [
    "# What platform am I running duckdb on\n",
    "duckdb.sql(query='CALL pragma_platform()')"
   ]
  },
  {
   "cell_type": "code",
   "execution_count": 7,
   "metadata": {},
   "outputs": [
    {
     "data": {
      "text/plain": [
       "┌────────────────────────────────────────────────┐\n",
       "│                   user_agent                   │\n",
       "│                    varchar                     │\n",
       "├────────────────────────────────────────────────┤\n",
       "│ duckdb/v1.1.3(linux_amd64_gcc4) python jupyter │\n",
       "└────────────────────────────────────────────────┘"
      ]
     },
     "execution_count": 7,
     "metadata": {},
     "output_type": "execute_result"
    }
   ],
   "source": [
    "# Get the user agent\n",
    "duckdb.sql(query='PRAGMA user_agent')"
   ]
  },
  {
   "cell_type": "code",
   "execution_count": 8,
   "metadata": {},
   "outputs": [
    {
     "data": {
      "text/plain": [
       "┌─────────────────────────────────┬─────────────────┬───────────────────────────────────────────────────────────────────────────────────────────────────────────────────────────────────────────────────────────────────────────────────────────────────────────────┬────────────┬─────────┐\n",
       "│              name               │      value      │                                                                                                  description                                                                                                  │ input_type │  scope  │\n",
       "│             varchar             │     varchar     │                                                                                                    varchar                                                                                                    │  varchar   │ varchar │\n",
       "├─────────────────────────────────┼─────────────────┼───────────────────────────────────────────────────────────────────────────────────────────────────────────────────────────────────────────────────────────────────────────────────────────────────────────────┼────────────┼─────────┤\n",
       "│ access_mode                     │ automatic       │ Access mode of the database (AUTOMATIC, READ_ONLY or READ_WRITE)                                                                                                                                              │ VARCHAR    │ GLOBAL  │\n",
       "│ allow_persistent_secrets        │ true            │ Allow the creation of persistent secrets, that are stored and loaded on restarts                                                                                                                              │ BOOLEAN    │ GLOBAL  │\n",
       "│ catalog_error_max_schemas       │ 100             │ The maximum number of schemas the system will scan for \"did you mean...\" style errors in the catalog                                                                                                          │ UBIGINT    │ GLOBAL  │\n",
       "│ checkpoint_threshold            │ 16.0 MiB        │ The WAL size threshold at which to automatically trigger a checkpoint (e.g. 1GB)                                                                                                                              │ VARCHAR    │ GLOBAL  │\n",
       "│ debug_checkpoint_abort          │ none            │ DEBUG SETTING: trigger an abort while checkpointing for testing purposes                                                                                                                                      │ VARCHAR    │ GLOBAL  │\n",
       "│ debug_skip_checkpoint_on_commit │ false           │ DEBUG SETTING: skip checkpointing on commit                                                                                                                                                                   │ BOOLEAN    │ GLOBAL  │\n",
       "│ storage_compatibility_version   │ v0.10.2         │ Serialize on checkpoint with compatibility for a given duckdb version                                                                                                                                         │ VARCHAR    │ GLOBAL  │\n",
       "│ debug_force_external            │ false           │ DEBUG SETTING: force out-of-core computation for operators that support it, used for testing                                                                                                                  │ BOOLEAN    │ LOCAL   │\n",
       "│ debug_force_no_cross_product    │ false           │ DEBUG SETTING: Force disable cross product generation when hyper graph isn't connected, used for testing                                                                                                      │ BOOLEAN    │ LOCAL   │\n",
       "│ debug_asof_iejoin               │ false           │ DEBUG SETTING: force use of IEJoin to implement AsOf joins                                                                                                                                                    │ BOOLEAN    │ LOCAL   │\n",
       "│         ·                       │  ·              │                             ·                                                                                                                                                                                 │    ·       │   ·     │\n",
       "│         ·                       │  ·              │                             ·                                                                                                                                                                                 │    ·       │   ·     │\n",
       "│         ·                       │  ·              │                             ·                                                                                                                                                                                 │    ·       │   ·     │\n",
       "│ index_scan_max_count            │ 2048            │ The maximum index scan count sets a threshold for index scans. If fewer than MAX(index_scan_max_count, index_scan_percentage * total_row_count) rows match, we perform an index scan instead of a table scan. │ UBIGINT    │ GLOBAL  │\n",
       "│ enable_http_logging             │ false           │ Enables HTTP logging                                                                                                                                                                                          │ BOOLEAN    │ LOCAL   │\n",
       "│ http_logging_output             │                 │ The file to which HTTP logging output should be saved, or empty to print to the terminal                                                                                                                      │ VARCHAR    │ LOCAL   │\n",
       "│ enable_geoparquet_conversion    │ true            │ Attempt to decode/encode geometry data in/as GeoParquet files if the spatial extension is present.                                                                                                            │ BOOLEAN    │ GLOBAL  │\n",
       "│ binary_as_string                │                 │ In Parquet files, interpret binary data as a string.                                                                                                                                                          │ BOOLEAN    │ GLOBAL  │\n",
       "│ Calendar                        │ gregorian       │ The current calendar                                                                                                                                                                                          │ VARCHAR    │ GLOBAL  │\n",
       "│ python_scan_all_frames          │ false           │ If set, restores the old behavior of scanning all preceding frames to locate the referenced variable.                                                                                                         │ BOOLEAN    │ GLOBAL  │\n",
       "│ TimeZone                        │ America/Toronto │ The current time zone                                                                                                                                                                                         │ VARCHAR    │ GLOBAL  │\n",
       "│ python_enable_replacements      │ true            │ Whether variables visible to the current stack should be used for replacement scans.                                                                                                                          │ BOOLEAN    │ GLOBAL  │\n",
       "│ pandas_analyze_sample           │ 1000            │ The maximum number of rows to sample when analyzing a pandas object column.                                                                                                                                   │ UBIGINT    │ GLOBAL  │\n",
       "├─────────────────────────────────┴─────────────────┴───────────────────────────────────────────────────────────────────────────────────────────────────────────────────────────────────────────────────────────────────────────────────────────────────────────────┴────────────┴─────────┤\n",
       "│ 107 rows (20 shown)                                                                                                                                                                                                                                                            5 columns │\n",
       "└──────────────────────────────────────────────────────────────────────────────────────────────────────────────────────────────────────────────────────────────────────────────────────────────────────────────────────────────────────────────────────────────────────────────────────────┘"
      ]
     },
     "execution_count": 8,
     "metadata": {},
     "output_type": "execute_result"
    }
   ],
   "source": [
    "# Get the current DuckDB settings\n",
    "duckdb.sql(query='SELECT * FROM duckdb_settings()')"
   ]
  },
  {
   "cell_type": "code",
   "execution_count": 9,
   "metadata": {},
   "outputs": [
    {
     "name": "stdout",
     "output_type": "stream",
     "text": [
      "/tmp/duckdb.log\n"
     ]
    }
   ],
   "source": [
    "# Set the logging\n",
    "duckdb.sql(query='SET log_query_path = \"/tmp/duckdb.log\"')\n",
    "!ls /tmp/duckdb.log"
   ]
  },
  {
   "cell_type": "code",
   "execution_count": 10,
   "metadata": {},
   "outputs": [
    {
     "data": {
      "text/plain": [
       "┌────────────┬─────────┬────────────────────────┬─────────┬─────────────┬──────────────┐\n",
       "│    name    │  type   │       parameters       │ varargs │ return_type │ side_effects │\n",
       "│  varchar   │ varchar │       varchar[]        │ varchar │   varchar   │   boolean    │\n",
       "├────────────┼─────────┼────────────────────────┼─────────┼─────────────┼──────────────┤\n",
       "│ !__postfix │ SCALAR  │ [INTEGER]              │ NULL    │ HUGEINT     │ false        │\n",
       "│ !~~        │ SCALAR  │ [VARCHAR, VARCHAR]     │ NULL    │ BOOLEAN     │ false        │\n",
       "│ !~~*       │ SCALAR  │ [VARCHAR, VARCHAR]     │ NULL    │ BOOLEAN     │ false        │\n",
       "│ %          │ SCALAR  │ [UHUGEINT, UHUGEINT]   │ NULL    │ UHUGEINT    │ false        │\n",
       "│ %          │ SCALAR  │ [UBIGINT, UBIGINT]     │ NULL    │ UBIGINT     │ false        │\n",
       "│ %          │ SCALAR  │ [UINTEGER, UINTEGER]   │ NULL    │ UINTEGER    │ false        │\n",
       "│ %          │ SCALAR  │ [USMALLINT, USMALLINT] │ NULL    │ USMALLINT   │ false        │\n",
       "│ %          │ SCALAR  │ [UTINYINT, UTINYINT]   │ NULL    │ UTINYINT    │ false        │\n",
       "│ %          │ SCALAR  │ [DECIMAL, DECIMAL]     │ NULL    │ DECIMAL     │ false        │\n",
       "│ %          │ SCALAR  │ [DOUBLE, DOUBLE]       │ NULL    │ DOUBLE      │ false        │\n",
       "│ ·          │   ·     │     ·                  │  ·      │   ·         │   ·          │\n",
       "│ ·          │   ·     │     ·                  │  ·      │   ·         │   ·          │\n",
       "│ ·          │   ·     │     ·                  │  ·      │   ·         │   ·          │\n",
       "│ ~          │ SCALAR  │ [UINTEGER]             │ NULL    │ UINTEGER    │ false        │\n",
       "│ ~          │ SCALAR  │ [USMALLINT]            │ NULL    │ USMALLINT   │ false        │\n",
       "│ ~          │ SCALAR  │ [UTINYINT]             │ NULL    │ UTINYINT    │ false        │\n",
       "│ ~          │ SCALAR  │ [HUGEINT]              │ NULL    │ HUGEINT     │ false        │\n",
       "│ ~          │ SCALAR  │ [BIGINT]               │ NULL    │ BIGINT      │ false        │\n",
       "│ ~          │ SCALAR  │ [INTEGER]              │ NULL    │ INTEGER     │ false        │\n",
       "│ ~          │ SCALAR  │ [SMALLINT]             │ NULL    │ SMALLINT    │ false        │\n",
       "│ ~~         │ SCALAR  │ [VARCHAR, VARCHAR]     │ NULL    │ BOOLEAN     │ false        │\n",
       "│ ~~*        │ SCALAR  │ [VARCHAR, VARCHAR]     │ NULL    │ BOOLEAN     │ false        │\n",
       "│ ~~~        │ SCALAR  │ [VARCHAR, VARCHAR]     │ NULL    │ BOOLEAN     │ false        │\n",
       "├────────────┴─────────┴────────────────────────┴─────────┴─────────────┴──────────────┤\n",
       "│ 2305 rows (20 shown)                                                       6 columns │\n",
       "└──────────────────────────────────────────────────────────────────────────────────────┘"
      ]
     },
     "execution_count": 10,
     "metadata": {},
     "output_type": "execute_result"
    }
   ],
   "source": [
    "# Get a list of the available functions\n",
    "duckdb.sql('PRAGMA functions')"
   ]
  },
  {
   "cell_type": "code",
   "execution_count": 11,
   "metadata": {},
   "outputs": [
    {
     "name": "stdout",
     "output_type": "stream",
     "text": [
      "┌───────┐\n",
      "│   1   │\n",
      "│ int32 │\n",
      "├───────┤\n",
      "│     1 │\n",
      "└───────┘\n",
      "\n"
     ]
    }
   ],
   "source": [
    "# Take it for a test spin\n",
    "duckdb.sql('SELECT 1').show()"
   ]
  },
  {
   "cell_type": "markdown",
   "metadata": {},
   "source": [
    "With that simple test out of the way, let's get some real data to work with.  \n",
    "\n",
    "DuckDB is capable of reading data from different formats, such as CSV, Parquet, JSON, Pandas DataFrame, Numpy arrays,  etc. It can read CSV files using the **.read_csv** function or even directly via **.sql**. This **.sql** allows DuckDB to operate on in memory databases.To access an in memory database use the **connect** method without any arguments.\n",
    "\n",
    "\n",
    "While your CSV, JSON, etc., files are generally stored on your system, there is nothing stopping you from downloading from a remote location via https. If the need arises for you to store your data to disk, as in make it persistent, DuckDB also has facilities for that.  \n",
    "\n",
    "Let us get some data. For us, let's read the conn.log file from Zeek. This file is serialized in JSON format."
   ]
  },
  {
   "cell_type": "code",
   "execution_count": 12,
   "metadata": {},
   "outputs": [
    {
     "data": {
      "text/plain": [
       "┌───────────────────┬────────────────────┬──────────────┬───────────┬────────────────┬───────────┬─────────┬────────────┬────────────┬────────────┬──────────────┬──────────┬───────────┬───────────────┬───────────┬───────────────┬────────────────────────┬────────────┬────────────┬─────────┐\n",
       "│        ts         │        uid         │  id.orig_h   │ id.orig_p │   id.resp_h    │ id.resp_p │  proto  │ conn_state │ local_orig │ local_resp │ missed_bytes │ history  │ orig_pkts │ orig_ip_bytes │ resp_pkts │ resp_ip_bytes │        duration        │ orig_bytes │ resp_bytes │ service │\n",
       "│      double       │      varchar       │   varchar    │   int64   │    varchar     │   int64   │ varchar │  varchar   │  boolean   │  boolean   │    int64     │ varchar  │   int64   │     int64     │   int64   │     int64     │         double         │   int64    │   int64    │ varchar │\n",
       "├───────────────────┼────────────────────┼──────────────┼───────────┼────────────────┼───────────┼─────────┼────────────┼────────────┼────────────┼──────────────┼──────────┼───────────┼───────────────┼───────────┼───────────────┼────────────────────────┼────────────┼────────────┼─────────┤\n",
       "│  1696017594.59247 │ ChefyE3DEW1aClvrpg │ 127.0.0.1    │      6789 │ 127.0.0.1      │     59106 │ tcp     │ OTH        │ true       │ true       │            0 │ Ccc      │         0 │             0 │         0 │             0 │                   NULL │       NULL │       NULL │ NULL    │\n",
       "│ 1696017594.796073 │ CNVult2fJM0kSCwz44 │ 192.168.0.4  │      9200 │ 192.168.0.4    │     59876 │ tcp     │ OTH        │ true       │ true       │            0 │ CccC     │         0 │             0 │         0 │             0 │                   NULL │       NULL │       NULL │ NULL    │\n",
       "│ 1696017594.806907 │ CyrAyq3MxIBtwI3l14 │ 192.168.0.4  │      9200 │ 192.168.0.4    │     59896 │ tcp     │ OTH        │ true       │ true       │            0 │ CccC     │         0 │             0 │         0 │             0 │                   NULL │       NULL │       NULL │ NULL    │\n",
       "│ 1696017599.419025 │ CTFYJf1YlOlgiuIRq3 │ 192.168.0.29 │     54167 │ 192.168.0.4    │        80 │ tcp     │ REJ        │ true       │ true       │            0 │ Sr       │         1 │            52 │         1 │            40 │ 1.4066696166992188e-05 │          0 │          0 │ NULL    │\n",
       "│ 1696017599.419293 │ CFvCzJ3IqyN9ZPo6Yf │ 192.168.0.29 │     54169 │ 192.168.0.4    │        80 │ tcp     │ REJ        │ true       │ true       │            0 │ Sr       │         1 │            52 │         1 │            40 │  8.106231689453125e-06 │          0 │          0 │ NULL    │\n",
       "│ 1696017599.424701 │ C3DwpC23QXuD21IrTd │ 192.168.0.29 │     54170 │ 192.168.0.4    │        80 │ tcp     │ REJ        │ true       │ true       │            0 │ Sr       │         1 │            52 │         1 │            40 │  8.106231689453125e-06 │          0 │          0 │ NULL    │\n",
       "│ 1696017599.419025 │ CJZTFA4weMt0rOi6n8 │ 192.168.0.29 │     54168 │ 192.168.0.4    │        80 │ tcp     │ REJ        │ true       │ true       │            0 │ Sr       │         1 │            52 │         1 │            40 │ 1.0013580322265625e-05 │          0 │          0 │ NULL    │\n",
       "│ 1696017599.667551 │ CJ7CB33OMrEJAVp2Ok │ 192.168.0.29 │     54173 │ 192.168.0.4    │        80 │ tcp     │ REJ        │ true       │ true       │            0 │ Sr       │         1 │            52 │         1 │            40 │ 5.0067901611328125e-05 │          0 │          0 │ NULL    │\n",
       "│ 1696017599.667551 │ CD6nHS2nP0XlCzVCMl │ 192.168.0.29 │     54171 │ 192.168.0.4    │        80 │ tcp     │ REJ        │ true       │ true       │            0 │ Sr       │         1 │            52 │         1 │            40 │  2.002716064453125e-05 │          0 │          0 │ NULL    │\n",
       "│ 1696017599.667551 │ CDFYX72za0XMGX6uC6 │ 192.168.0.29 │     54172 │ 192.168.0.4    │        80 │ tcp     │ REJ        │ true       │ true       │            0 │ Sr       │         1 │            52 │         1 │            40 │  4.506111145019531e-05 │          0 │          0 │ NULL    │\n",
       "│         ·         │         ·          │     ·        │       ·   │     ·          │         · │  ·      │  ·         │  ·         │  ·         │            · │ ·        │         · │             · │         · │             · │                     ·  │          · │          · │  ·      │\n",
       "│         ·         │         ·          │     ·        │       ·   │     ·          │         · │  ·      │  ·         │  ·         │  ·         │            · │ ·        │         · │             · │         · │             · │                     ·  │          · │          · │  ·      │\n",
       "│         ·         │         ·          │     ·        │       ·   │     ·          │         · │  ·      │  ·         │  ·         │  ·         │            · │ ·        │         · │             · │         · │             · │                     ·  │          · │          · │  ·      │\n",
       "│ 1696018905.723928 │ CObyDx4iNx4KDJMGTe │ 127.0.0.1    │     34198 │ 127.0.0.1      │      6379 │ tcp     │ OTH        │ true       │ true       │            0 │ CcCc     │         0 │             0 │         0 │             0 │                   NULL │       NULL │       NULL │ NULL    │\n",
       "│ 1696018906.888415 │ CcSkFO3MAhD86Rfr44 │ 127.0.0.1    │     34176 │ 127.0.0.1      │      5601 │ tcp     │ RSTRH      │ true       │ true       │            0 │ Cr       │         0 │             0 │         2 │            80 │ 1.0967254638671875e-05 │          0 │          0 │ NULL    │\n",
       "│  1696018906.88883 │ Cd4NiO29fKOmJK6NF3 │ 127.0.0.1    │     34188 │ 127.0.0.1      │      5601 │ tcp     │ RSTRH      │ true       │ true       │            0 │ Cr       │         0 │             0 │         2 │            80 │ 1.4066696166992188e-05 │          0 │          0 │ NULL    │\n",
       "│ 1696018906.889349 │ CIaFAomZxIeEmOAp7  │ 127.0.0.1    │     34196 │ 127.0.0.1      │      5601 │ tcp     │ RSTRH      │ true       │ true       │            0 │ Cr       │         0 │             0 │         2 │            80 │ 1.1920928955078125e-05 │          0 │          0 │ NULL    │\n",
       "│ 1696018906.890834 │ CKW6LxjJG23rxjX9j  │ 127.0.0.1    │     34206 │ 127.0.0.1      │      5601 │ tcp     │ RSTRH      │ true       │ true       │            0 │ Cr       │         0 │             0 │         2 │            80 │  7.867813110351562e-06 │          0 │          0 │ NULL    │\n",
       "│ 1696018906.890836 │ CRJjSs2QUPE8pBJeQd │ 127.0.0.1    │     34210 │ 127.0.0.1      │      5601 │ tcp     │ RSTRH      │ true       │ true       │            0 │ Cr       │         0 │             0 │         2 │            80 │ 1.0967254638671875e-05 │          0 │          0 │ NULL    │\n",
       "│ 1696018906.890931 │ Cg6CSz2rQquEFxSoRk │ 127.0.0.1    │     34212 │ 127.0.0.1      │      5601 │ tcp     │ RSTRH      │ true       │ true       │            0 │ Cr       │         0 │             0 │         2 │            80 │ 1.2159347534179688e-05 │          0 │          0 │ NULL    │\n",
       "│ 1696018901.921446 │ CKUMT1QRYJny6TXi8  │ 192.168.0.10 │      5353 │ 224.0.0.251    │      5353 │ udp     │ S0         │ true       │ false      │            0 │ D        │         1 │            89 │         0 │             0 │                   NULL │       NULL │       NULL │ dns     │\n",
       "│ 1696018820.554161 │ C7MNhp4uTA6gWgypJd │ 192.168.0.95 │     56548 │ 142.251.33.170 │       443 │ tcp     │ SF         │ true       │ false      │            0 │ ShADadFf │        20 │          5747 │        19 │          6445 │      86.39099097251892 │       4699 │       5449 │ ssl     │\n",
       "│ 1696018902.235111 │ CHf8ci4iuePhEOFaDh │ 192.168.0.9  │     34313 │ 192.168.0.2    │        53 │ udp     │ SF         │ true       │ true       │            0 │ Dd       │         1 │            72 │         1 │           231 │  0.0002789497375488281 │         44 │        203 │ dns     │\n",
       "├───────────────────┴────────────────────┴──────────────┴───────────┴────────────────┴───────────┴─────────┴────────────┴────────────┴────────────┴──────────────┴──────────┴───────────┴───────────────┴───────────┴───────────────┴────────────────────────┴────────────┴────────────┴─────────┤\n",
       "│ ? rows (>9999 rows, 20 shown)                                                                                                                                                                                                                                                       20 columns │\n",
       "└────────────────────────────────────────────────────────────────────────────────────────────────────────────────────────────────────────────────────────────────────────────────────────────────────────────────────────────────────────────────────────────────────────────────────────────────┘"
      ]
     },
     "execution_count": 12,
     "metadata": {},
     "output_type": "execute_result"
    }
   ],
   "source": [
    "# Read the data and take a quick peak\n",
    "quack = duckdb.read_json(path_or_buffer='/mnt/d/ML/conn-today.json')\n",
    "quack"
   ]
  },
  {
   "cell_type": "markdown",
   "metadata": {},
   "source": [
    "Now that we know we can read data, let's write this data back to the file system for testing. In this case, let's write in the Parquet format."
   ]
  },
  {
   "cell_type": "code",
   "execution_count": 13,
   "metadata": {},
   "outputs": [
    {
     "name": "stdout",
     "output_type": "stream",
     "text": [
      "-rwxrwxrwx 1 securitynik securitynik 1006239 Jan  1 13:54 /mnt/d/ML/conn-today.pqt\n"
     ]
    }
   ],
   "source": [
    "# Writing to the file system\n",
    "quack.write_parquet(file_name=r'/tmp/conn-today.pqt')\n",
    "\n",
    "# With the above done, let's verify the file was successfully written\n",
    "!ls -l /mnt/d/ML/conn-today.pqt"
   ]
  },
  {
   "cell_type": "markdown",
   "metadata": {},
   "source": [
    "We now know we can open files and write to the file system. Let's create persistent database. That is a database that is stored to the file system.  "
   ]
  },
  {
   "cell_type": "code",
   "execution_count": 14,
   "metadata": {},
   "outputs": [
    {
     "name": "stdout",
     "output_type": "stream",
     "text": [
      "-rw-r--r-- 1 securitynik securitynik 12288 Jan  6 19:42 /tmp/securitynik.duckdb\n"
     ]
    }
   ],
   "source": [
    "# Create the database\n",
    "duckdb.connect(database='/tmp/securitynik.duckdb', read_only=False)\n",
    "\n",
    "# Verify the file was created\n",
    "!ls -l /tmp/securitynik.duckdb"
   ]
  },
  {
   "cell_type": "code",
   "execution_count": 15,
   "metadata": {},
   "outputs": [
    {
     "data": {
      "text/plain": [
       "<duckdb.duckdb.DuckDBPyConnection at 0x7fca3fd9a830>"
      ]
     },
     "execution_count": 15,
     "metadata": {},
     "output_type": "execute_result"
    }
   ],
   "source": [
    "# Let's actually connect to that database and do some work with it\n",
    "con = duckdb.connect(database='/tmp/securitynik.duckdb', read_only=False)\n",
    "con"
   ]
  },
  {
   "cell_type": "code",
   "execution_count": 16,
   "metadata": {},
   "outputs": [],
   "source": [
    "# With the connection in place, time to create a table\n",
    "# Let's build a table using the information we stored in the database earlier\n",
    "# If the table exists, then just move on\n",
    "con.sql('CREATE TABLE IF NOT EXISTS conn_log AS FROM read_parquet(\"/tmp/conn-today.pqt\")')"
   ]
  },
  {
   "cell_type": "code",
   "execution_count": 17,
   "metadata": {},
   "outputs": [
    {
     "data": {
      "text/plain": [
       "┌───────┬─────────────┬─────────────────────────┐\n",
       "│  seq  │    name     │          file           │\n",
       "│ int64 │   varchar   │         varchar         │\n",
       "├───────┼─────────────┼─────────────────────────┤\n",
       "│  1146 │ securitynik │ /tmp/securitynik.duckdb │\n",
       "└───────┴─────────────┴─────────────────────────┘"
      ]
     },
     "execution_count": 17,
     "metadata": {},
     "output_type": "execute_result"
    }
   ],
   "source": [
    "# Look at the list of databases and their paths\n",
    "# We created one so the expectation here is only one\n",
    "con.sql('PRAGMA database_list')"
   ]
  },
  {
   "cell_type": "code",
   "execution_count": 18,
   "metadata": {},
   "outputs": [
    {
     "data": {
      "text/plain": [
       "┌───────────────┬───────────────┬────────────┬──────────────┬─────────────┬─────────────┬──────────┬──────────────┬──────────────┐\n",
       "│ database_name │ database_size │ block_size │ total_blocks │ used_blocks │ free_blocks │ wal_size │ memory_usage │ memory_limit │\n",
       "│    varchar    │    varchar    │   int64    │    int64     │    int64    │    int64    │ varchar  │   varchar    │   varchar    │\n",
       "├───────────────┼───────────────┼────────────┼──────────────┼─────────────┼─────────────┼──────────┼──────────────┼──────────────┤\n",
       "│ securitynik   │ 0 bytes       │     262144 │            0 │           0 │           0 │ 3.3 MiB  │ 11.1 MiB     │ 12.3 GiB     │\n",
       "└───────────────┴───────────────┴────────────┴──────────────┴─────────────┴─────────────┴──────────┴──────────────┴──────────────┘"
      ]
     },
     "execution_count": 18,
     "metadata": {},
     "output_type": "execute_result"
    }
   ],
   "source": [
    "# Get information on the database size\n",
    "con.sql('CALL pragma_database_size()')"
   ]
  },
  {
   "cell_type": "code",
   "execution_count": 19,
   "metadata": {},
   "outputs": [
    {
     "data": {
      "text/plain": [
       "┌───────────────┬───────────────┬────────────┬──────────────┬─────────────┬─────────────┬──────────┬──────────────┬──────────────┐\n",
       "│ database_name │ database_size │ block_size │ total_blocks │ used_blocks │ free_blocks │ wal_size │ memory_usage │ memory_limit │\n",
       "│    varchar    │    varchar    │   int64    │    int64     │    int64    │    int64    │ varchar  │   varchar    │   varchar    │\n",
       "├───────────────┼───────────────┼────────────┼──────────────┼─────────────┼─────────────┼──────────┼──────────────┼──────────────┤\n",
       "│ securitynik   │ 0 bytes       │     262144 │            0 │           0 │           0 │ 3.3 MiB  │ 11.1 MiB     │ 953.6 MiB    │\n",
       "└───────────────┴───────────────┴────────────┴──────────────┴─────────────┴─────────────┴──────────┴──────────────┴──────────────┘"
      ]
     },
     "execution_count": 19,
     "metadata": {},
     "output_type": "execute_result"
    }
   ],
   "source": [
    "# How about we change the amount for the memory limit of the database\n",
    "con.sql(query=\"SET memory_limit = '1GB'\")\n",
    "con.sql('CALL pragma_database_size()')"
   ]
  },
  {
   "cell_type": "code",
   "execution_count": 20,
   "metadata": {},
   "outputs": [
    {
     "data": {
      "text/plain": [
       "┌──────────┐\n",
       "│   name   │\n",
       "│ varchar  │\n",
       "├──────────┤\n",
       "│ conn_log │\n",
       "└──────────┘"
      ]
     },
     "execution_count": 20,
     "metadata": {},
     "output_type": "execute_result"
    }
   ],
   "source": [
    "# Let's list all tables in the securitynik database\n",
    "con.sql('PRAGMA show_tables')"
   ]
  },
  {
   "cell_type": "code",
   "execution_count": 21,
   "metadata": {},
   "outputs": [
    {
     "data": {
      "text/plain": [
       "┌─────────────┬─────────┬──────────┬────────────────────────────────────────────────────────────────────────────────────────────────────────────────────────────────────────────────────────────────────────────────────────────────────────────────────────┬───────────────────────────────────────────────────────────────────────────────────────────────────────────────────────────────────────────────────────────────────────────┬───────────┐\n",
       "│  database   │ schema  │   name   │                                                                                                      column_names                                                                                                      │                                                                               column_types                                                                                │ temporary │\n",
       "│   varchar   │ varchar │ varchar  │                                                                                                       varchar[]                                                                                                        │                                                                                 varchar[]                                                                                 │  boolean  │\n",
       "├─────────────┼─────────┼──────────┼────────────────────────────────────────────────────────────────────────────────────────────────────────────────────────────────────────────────────────────────────────────────────────────────────────────────────────┼───────────────────────────────────────────────────────────────────────────────────────────────────────────────────────────────────────────────────────────────────────────┼───────────┤\n",
       "│ securitynik │ main    │ conn_log │ [ts, uid, id.orig_h, id.orig_p, id.resp_h, id.resp_p, proto, conn_state, local_orig, local_resp, missed_bytes, history, orig_pkts, orig_ip_bytes, resp_pkts, resp_ip_bytes, duration, orig_bytes, resp_bytes, service] │ [DOUBLE, VARCHAR, VARCHAR, BIGINT, VARCHAR, BIGINT, VARCHAR, VARCHAR, BOOLEAN, BOOLEAN, BIGINT, VARCHAR, BIGINT, BIGINT, BIGINT, BIGINT, DOUBLE, BIGINT, BIGINT, VARCHAR] │ false     │\n",
       "└─────────────┴─────────┴──────────┴────────────────────────────────────────────────────────────────────────────────────────────────────────────────────────────────────────────────────────────────────────────────────────────────────────────────────────┴───────────────────────────────────────────────────────────────────────────────────────────────────────────────────────────────────────────────────────────────────────────┴───────────┘"
      ]
     },
     "execution_count": 21,
     "metadata": {},
     "output_type": "execute_result"
    }
   ],
   "source": [
    "# Expand that view\n",
    "# Let's get a little bit more data about the tables in database, tables, columns, etc.\n",
    "con.sql('PRAGMA show_tables_expanded')"
   ]
  },
  {
   "cell_type": "code",
   "execution_count": 22,
   "metadata": {},
   "outputs": [
    {
     "data": {
      "text/plain": [
       "┌───────────────┬─────────────┬─────────┬─────────┬─────────┬─────────┐\n",
       "│  column_name  │ column_type │  null   │   key   │ default │  extra  │\n",
       "│    varchar    │   varchar   │ varchar │ varchar │ varchar │ varchar │\n",
       "├───────────────┼─────────────┼─────────┼─────────┼─────────┼─────────┤\n",
       "│ ts            │ DOUBLE      │ YES     │ NULL    │ NULL    │ NULL    │\n",
       "│ uid           │ VARCHAR     │ YES     │ NULL    │ NULL    │ NULL    │\n",
       "│ id.orig_h     │ VARCHAR     │ YES     │ NULL    │ NULL    │ NULL    │\n",
       "│ id.orig_p     │ BIGINT      │ YES     │ NULL    │ NULL    │ NULL    │\n",
       "│ id.resp_h     │ VARCHAR     │ YES     │ NULL    │ NULL    │ NULL    │\n",
       "│ id.resp_p     │ BIGINT      │ YES     │ NULL    │ NULL    │ NULL    │\n",
       "│ proto         │ VARCHAR     │ YES     │ NULL    │ NULL    │ NULL    │\n",
       "│ conn_state    │ VARCHAR     │ YES     │ NULL    │ NULL    │ NULL    │\n",
       "│ local_orig    │ BOOLEAN     │ YES     │ NULL    │ NULL    │ NULL    │\n",
       "│ local_resp    │ BOOLEAN     │ YES     │ NULL    │ NULL    │ NULL    │\n",
       "│ missed_bytes  │ BIGINT      │ YES     │ NULL    │ NULL    │ NULL    │\n",
       "│ history       │ VARCHAR     │ YES     │ NULL    │ NULL    │ NULL    │\n",
       "│ orig_pkts     │ BIGINT      │ YES     │ NULL    │ NULL    │ NULL    │\n",
       "│ orig_ip_bytes │ BIGINT      │ YES     │ NULL    │ NULL    │ NULL    │\n",
       "│ resp_pkts     │ BIGINT      │ YES     │ NULL    │ NULL    │ NULL    │\n",
       "│ resp_ip_bytes │ BIGINT      │ YES     │ NULL    │ NULL    │ NULL    │\n",
       "│ duration      │ DOUBLE      │ YES     │ NULL    │ NULL    │ NULL    │\n",
       "│ orig_bytes    │ BIGINT      │ YES     │ NULL    │ NULL    │ NULL    │\n",
       "│ resp_bytes    │ BIGINT      │ YES     │ NULL    │ NULL    │ NULL    │\n",
       "│ service       │ VARCHAR     │ YES     │ NULL    │ NULL    │ NULL    │\n",
       "├───────────────┴─────────────┴─────────┴─────────┴─────────┴─────────┤\n",
       "│ 20 rows                                                   6 columns │\n",
       "└─────────────────────────────────────────────────────────────────────┘"
      ]
     },
     "execution_count": 22,
     "metadata": {},
     "output_type": "execute_result"
    }
   ],
   "source": [
    "# Describe the table\n",
    "con.sql('DESCRIBE conn_log')"
   ]
  },
  {
   "cell_type": "code",
   "execution_count": 23,
   "metadata": {},
   "outputs": [
    {
     "data": {
      "text/plain": [
       "┌───────┬───────────────┬─────────┬─────────┬────────────┬─────────┐\n",
       "│  cid  │     name      │  type   │ notnull │ dflt_value │   pk    │\n",
       "│ int32 │    varchar    │ varchar │ boolean │  varchar   │ boolean │\n",
       "├───────┼───────────────┼─────────┼─────────┼────────────┼─────────┤\n",
       "│     0 │ ts            │ DOUBLE  │ false   │ NULL       │ false   │\n",
       "│     1 │ uid           │ VARCHAR │ false   │ NULL       │ false   │\n",
       "│     2 │ id.orig_h     │ VARCHAR │ false   │ NULL       │ false   │\n",
       "│     3 │ id.orig_p     │ BIGINT  │ false   │ NULL       │ false   │\n",
       "│     4 │ id.resp_h     │ VARCHAR │ false   │ NULL       │ false   │\n",
       "│     5 │ id.resp_p     │ BIGINT  │ false   │ NULL       │ false   │\n",
       "│     6 │ proto         │ VARCHAR │ false   │ NULL       │ false   │\n",
       "│     7 │ conn_state    │ VARCHAR │ false   │ NULL       │ false   │\n",
       "│     8 │ local_orig    │ BOOLEAN │ false   │ NULL       │ false   │\n",
       "│     9 │ local_resp    │ BOOLEAN │ false   │ NULL       │ false   │\n",
       "│    10 │ missed_bytes  │ BIGINT  │ false   │ NULL       │ false   │\n",
       "│    11 │ history       │ VARCHAR │ false   │ NULL       │ false   │\n",
       "│    12 │ orig_pkts     │ BIGINT  │ false   │ NULL       │ false   │\n",
       "│    13 │ orig_ip_bytes │ BIGINT  │ false   │ NULL       │ false   │\n",
       "│    14 │ resp_pkts     │ BIGINT  │ false   │ NULL       │ false   │\n",
       "│    15 │ resp_ip_bytes │ BIGINT  │ false   │ NULL       │ false   │\n",
       "│    16 │ duration      │ DOUBLE  │ false   │ NULL       │ false   │\n",
       "│    17 │ orig_bytes    │ BIGINT  │ false   │ NULL       │ false   │\n",
       "│    18 │ resp_bytes    │ BIGINT  │ false   │ NULL       │ false   │\n",
       "│    19 │ service       │ VARCHAR │ false   │ NULL       │ false   │\n",
       "├───────┴───────────────┴─────────┴─────────┴────────────┴─────────┤\n",
       "│ 20 rows                                                6 columns │\n",
       "└──────────────────────────────────────────────────────────────────┘"
      ]
     },
     "execution_count": 23,
     "metadata": {},
     "output_type": "execute_result"
    }
   ],
   "source": [
    "# Get information on the table from a different perspective\n",
    "con.sql('PRAGMA table_info(conn_log)')"
   ]
  },
  {
   "cell_type": "code",
   "execution_count": 24,
   "metadata": {},
   "outputs": [
    {
     "data": {
      "text/plain": [
       "┌──────────────┬─────────────┬───────────┬─────────────┬────────────┬──────────────┬───────┬───────┬──────────────┬───────────────────────────────────────────────────────────────────────────────────────────────────────────────┬─────────────┬────────────┬──────────┬──────────────┬──────────────┐\n",
       "│ row_group_id │ column_name │ column_id │ column_path │ segment_id │ segment_type │ start │ count │ compression  │                                                     stats                                                     │ has_updates │ persistent │ block_id │ block_offset │ segment_info │\n",
       "│    int64     │   varchar   │   int64   │   varchar   │   int64    │   varchar    │ int64 │ int64 │   varchar    │                                                    varchar                                                    │   boolean   │  boolean   │  int64   │    int64     │   varchar    │\n",
       "├──────────────┼─────────────┼───────────┼─────────────┼────────────┼──────────────┼───────┼───────┼──────────────┼───────────────────────────────────────────────────────────────────────────────────────────────────────────────┼─────────────┼────────────┼──────────┼──────────────┼──────────────┤\n",
       "│            0 │ ts          │         0 │ [0]         │          0 │ DOUBLE       │     0 │  2048 │ Uncompressed │ [Min: 1695988071.878734, Max: 1696017841.374835][Has Null: false, Has No Null: true]                          │ false       │ false      │     NULL │         NULL │              │\n",
       "│            0 │ ts          │         0 │ [0]         │          1 │ DOUBLE       │  2048 │ 22000 │ Uncompressed │ [Min: 1695902349.570724, Max: 1696021196.891631][Has Null: false, Has No Null: true]                          │ false       │ false      │     NULL │         NULL │              │\n",
       "│            0 │ ts          │         0 │ [0, 0]      │          0 │ VALIDITY     │     0 │ 16384 │ Uncompressed │ [Has Null: false, Has No Null: true]                                                                          │ false       │ false      │     NULL │         NULL │              │\n",
       "│            0 │ ts          │         0 │ [0, 0]      │          1 │ VALIDITY     │ 16384 │  7664 │ Uncompressed │ [Has Null: false, Has No Null: true]                                                                          │ false       │ false      │     NULL │         NULL │              │\n",
       "│            0 │ uid         │         1 │ [1]         │          0 │ VARCHAR      │     0 │  1507 │ Uncompressed │ [Min: C02hF41c, Max: CzyGgP2N, Has Unicode: false, Max String Length: 18][Has Null: false, Has No Null: true] │ false       │ false      │     NULL │         NULL │              │\n",
       "│            0 │ uid         │         1 │ [1]         │          1 │ VARCHAR      │  1507 │ 12062 │ Uncompressed │ [Min: C00gvb5r, Max: Czzwaz1N, Has Unicode: false, Max String Length: 18][Has Null: false, Has No Null: true] │ false       │ false      │     NULL │         NULL │              │\n",
       "│            0 │ uid         │         1 │ [1]         │          2 │ VARCHAR      │ 13569 │ 10479 │ Uncompressed │ [Min: C00QBOAf, Max: Czzwwao7, Has Unicode: false, Max String Length: 18][Has Null: false, Has No Null: true] │ false       │ false      │     NULL │         NULL │              │\n",
       "│            0 │ uid         │         1 │ [1, 0]      │          0 │ VALIDITY     │     0 │ 16384 │ Uncompressed │ [Has Null: false, Has No Null: true]                                                                          │ false       │ false      │     NULL │         NULL │              │\n",
       "│            0 │ uid         │         1 │ [1, 0]      │          1 │ VALIDITY     │ 16384 │  7664 │ Uncompressed │ [Has Null: false, Has No Null: true]                                                                          │ false       │ false      │     NULL │         NULL │              │\n",
       "│            0 │ id.orig_h   │         2 │ [2]         │          0 │ VARCHAR      │     0 │  2232 │ Uncompressed │ [Min: 127.0.0., Max: fe80::eb, Has Unicode: false, Max String Length: 25][Has Null: false, Has No Null: true] │ false       │ false      │     NULL │         NULL │              │\n",
       "│            · │     ·       │         · │  ·          │          · │    ·         │     · │    ·  │      ·       │                  ·                                                                                            │   ·         │   ·        │       ·  │           ·  │      ·       │\n",
       "│            · │     ·       │         · │  ·          │          · │    ·         │     · │    ·  │      ·       │                  ·                                                                                            │   ·         │   ·        │       ·  │           ·  │      ·       │\n",
       "│            · │     ·       │         · │  ·          │          · │    ·         │     · │    ·  │      ·       │                  ·                                                                                            │   ·         │   ·        │       ·  │           ·  │      ·       │\n",
       "│            0 │ orig_bytes  │        17 │ [17, 0]     │          0 │ VALIDITY     │     0 │ 16384 │ Uncompressed │ [Has Null: true, Has No Null: true]                                                                           │ false       │ false      │     NULL │         NULL │              │\n",
       "│            0 │ orig_bytes  │        17 │ [17, 0]     │          1 │ VALIDITY     │ 16384 │  7664 │ Uncompressed │ [Has Null: true, Has No Null: true]                                                                           │ false       │ false      │     NULL │         NULL │              │\n",
       "│            0 │ resp_bytes  │        18 │ [18]        │          0 │ BIGINT       │     0 │  2048 │ Uncompressed │ [Min: 0, Max: 5003779][Has Null: false, Has No Null: true]                                                    │ false       │ false      │     NULL │         NULL │              │\n",
       "│            0 │ resp_bytes  │        18 │ [18]        │          1 │ BIGINT       │  2048 │ 22000 │ Uncompressed │ [Min: 0, Max: 1207605466][Has Null: false, Has No Null: true]                                                 │ false       │ false      │     NULL │         NULL │              │\n",
       "│            0 │ resp_bytes  │        18 │ [18, 0]     │          0 │ VALIDITY     │     0 │ 16384 │ Uncompressed │ [Has Null: true, Has No Null: true]                                                                           │ false       │ false      │     NULL │         NULL │              │\n",
       "│            0 │ resp_bytes  │        18 │ [18, 0]     │          1 │ VALIDITY     │ 16384 │  7664 │ Uncompressed │ [Has Null: true, Has No Null: true]                                                                           │ false       │ false      │     NULL │         NULL │              │\n",
       "│            0 │ service     │        19 │ [19]        │          0 │ VARCHAR      │     0 │  6707 │ Uncompressed │ [Min: dhcp, Max: syslog, Has Unicode: false, Max String Length: 8][Has Null: false, Has No Null: true]        │ false       │ false      │     NULL │         NULL │              │\n",
       "│            0 │ service     │        19 │ [19]        │          1 │ VARCHAR      │  6707 │ 17341 │ Uncompressed │ [Min: dhcp, Max: syslog, Has Unicode: false, Max String Length: 8][Has Null: false, Has No Null: true]        │ false       │ false      │     NULL │         NULL │              │\n",
       "│            0 │ service     │        19 │ [19, 0]     │          0 │ VALIDITY     │     0 │ 16384 │ Uncompressed │ [Has Null: true, Has No Null: true]                                                                           │ false       │ false      │     NULL │         NULL │              │\n",
       "│            0 │ service     │        19 │ [19, 0]     │          1 │ VALIDITY     │ 16384 │  7664 │ Uncompressed │ [Has Null: true, Has No Null: true]                                                                           │ false       │ false      │     NULL │         NULL │              │\n",
       "├──────────────┴─────────────┴───────────┴─────────────┴────────────┴──────────────┴───────┴───────┴──────────────┴───────────────────────────────────────────────────────────────────────────────────────────────────────────────┴─────────────┴────────────┴──────────┴──────────────┴──────────────┤\n",
       "│ 83 rows (20 shown)                                                                                                                                                                                                                                                                       15 columns │\n",
       "└─────────────────────────────────────────────────────────────────────────────────────────────────────────────────────────────────────────────────────────────────────────────────────────────────────────────────────────────────────────────────────────────────────────────────────────────────────┘"
      ]
     },
     "execution_count": 24,
     "metadata": {},
     "output_type": "execute_result"
    }
   ],
   "source": [
    "# Get the storage info for the table\n",
    "con.sql(query='CALL pragma_storage_info(conn_log)')"
   ]
  },
  {
   "cell_type": "code",
   "execution_count": 25,
   "metadata": {},
   "outputs": [
    {
     "data": {
      "text/plain": [
       "┌───────────────────┬────────────────────┬──────────────┬───────────┬────────────────┬───────────┬─────────┬────────────┬────────────┬────────────┬──────────────┬──────────┬───────────┬───────────────┬───────────┬───────────────┬────────────────────────┬────────────┬────────────┬─────────┐\n",
       "│        ts         │        uid         │  id.orig_h   │ id.orig_p │   id.resp_h    │ id.resp_p │  proto  │ conn_state │ local_orig │ local_resp │ missed_bytes │ history  │ orig_pkts │ orig_ip_bytes │ resp_pkts │ resp_ip_bytes │        duration        │ orig_bytes │ resp_bytes │ service │\n",
       "│      double       │      varchar       │   varchar    │   int64   │    varchar     │   int64   │ varchar │  varchar   │  boolean   │  boolean   │    int64     │ varchar  │   int64   │     int64     │   int64   │     int64     │         double         │   int64    │   int64    │ varchar │\n",
       "├───────────────────┼────────────────────┼──────────────┼───────────┼────────────────┼───────────┼─────────┼────────────┼────────────┼────────────┼──────────────┼──────────┼───────────┼───────────────┼───────────┼───────────────┼────────────────────────┼────────────┼────────────┼─────────┤\n",
       "│  1696017594.59247 │ ChefyE3DEW1aClvrpg │ 127.0.0.1    │      6789 │ 127.0.0.1      │     59106 │ tcp     │ OTH        │ true       │ true       │            0 │ Ccc      │         0 │             0 │         0 │             0 │                   NULL │       NULL │       NULL │ NULL    │\n",
       "│ 1696017594.796073 │ CNVult2fJM0kSCwz44 │ 192.168.0.4  │      9200 │ 192.168.0.4    │     59876 │ tcp     │ OTH        │ true       │ true       │            0 │ CccC     │         0 │             0 │         0 │             0 │                   NULL │       NULL │       NULL │ NULL    │\n",
       "│ 1696017594.806907 │ CyrAyq3MxIBtwI3l14 │ 192.168.0.4  │      9200 │ 192.168.0.4    │     59896 │ tcp     │ OTH        │ true       │ true       │            0 │ CccC     │         0 │             0 │         0 │             0 │                   NULL │       NULL │       NULL │ NULL    │\n",
       "│ 1696017599.419025 │ CTFYJf1YlOlgiuIRq3 │ 192.168.0.29 │     54167 │ 192.168.0.4    │        80 │ tcp     │ REJ        │ true       │ true       │            0 │ Sr       │         1 │            52 │         1 │            40 │ 1.4066696166992188e-05 │          0 │          0 │ NULL    │\n",
       "│ 1696017599.419293 │ CFvCzJ3IqyN9ZPo6Yf │ 192.168.0.29 │     54169 │ 192.168.0.4    │        80 │ tcp     │ REJ        │ true       │ true       │            0 │ Sr       │         1 │            52 │         1 │            40 │  8.106231689453125e-06 │          0 │          0 │ NULL    │\n",
       "│ 1696017599.424701 │ C3DwpC23QXuD21IrTd │ 192.168.0.29 │     54170 │ 192.168.0.4    │        80 │ tcp     │ REJ        │ true       │ true       │            0 │ Sr       │         1 │            52 │         1 │            40 │  8.106231689453125e-06 │          0 │          0 │ NULL    │\n",
       "│ 1696017599.419025 │ CJZTFA4weMt0rOi6n8 │ 192.168.0.29 │     54168 │ 192.168.0.4    │        80 │ tcp     │ REJ        │ true       │ true       │            0 │ Sr       │         1 │            52 │         1 │            40 │ 1.0013580322265625e-05 │          0 │          0 │ NULL    │\n",
       "│ 1696017599.667551 │ CJ7CB33OMrEJAVp2Ok │ 192.168.0.29 │     54173 │ 192.168.0.4    │        80 │ tcp     │ REJ        │ true       │ true       │            0 │ Sr       │         1 │            52 │         1 │            40 │ 5.0067901611328125e-05 │          0 │          0 │ NULL    │\n",
       "│ 1696017599.667551 │ CD6nHS2nP0XlCzVCMl │ 192.168.0.29 │     54171 │ 192.168.0.4    │        80 │ tcp     │ REJ        │ true       │ true       │            0 │ Sr       │         1 │            52 │         1 │            40 │  2.002716064453125e-05 │          0 │          0 │ NULL    │\n",
       "│ 1696017599.667551 │ CDFYX72za0XMGX6uC6 │ 192.168.0.29 │     54172 │ 192.168.0.4    │        80 │ tcp     │ REJ        │ true       │ true       │            0 │ Sr       │         1 │            52 │         1 │            40 │  4.506111145019531e-05 │          0 │          0 │ NULL    │\n",
       "│         ·         │         ·          │     ·        │       ·   │     ·          │         · │  ·      │  ·         │  ·         │  ·         │            · │ ·        │         · │             · │         · │             · │                     ·  │          · │          · │  ·      │\n",
       "│         ·         │         ·          │     ·        │       ·   │     ·          │         · │  ·      │  ·         │  ·         │  ·         │            · │ ·        │         · │             · │         · │             · │                     ·  │          · │          · │  ·      │\n",
       "│         ·         │         ·          │     ·        │       ·   │     ·          │         · │  ·      │  ·         │  ·         │  ·         │            · │ ·        │         · │             · │         · │             · │                     ·  │          · │          · │  ·      │\n",
       "│ 1696018905.723928 │ CObyDx4iNx4KDJMGTe │ 127.0.0.1    │     34198 │ 127.0.0.1      │      6379 │ tcp     │ OTH        │ true       │ true       │            0 │ CcCc     │         0 │             0 │         0 │             0 │                   NULL │       NULL │       NULL │ NULL    │\n",
       "│ 1696018906.888415 │ CcSkFO3MAhD86Rfr44 │ 127.0.0.1    │     34176 │ 127.0.0.1      │      5601 │ tcp     │ RSTRH      │ true       │ true       │            0 │ Cr       │         0 │             0 │         2 │            80 │ 1.0967254638671875e-05 │          0 │          0 │ NULL    │\n",
       "│  1696018906.88883 │ Cd4NiO29fKOmJK6NF3 │ 127.0.0.1    │     34188 │ 127.0.0.1      │      5601 │ tcp     │ RSTRH      │ true       │ true       │            0 │ Cr       │         0 │             0 │         2 │            80 │ 1.4066696166992188e-05 │          0 │          0 │ NULL    │\n",
       "│ 1696018906.889349 │ CIaFAomZxIeEmOAp7  │ 127.0.0.1    │     34196 │ 127.0.0.1      │      5601 │ tcp     │ RSTRH      │ true       │ true       │            0 │ Cr       │         0 │             0 │         2 │            80 │ 1.1920928955078125e-05 │          0 │          0 │ NULL    │\n",
       "│ 1696018906.890834 │ CKW6LxjJG23rxjX9j  │ 127.0.0.1    │     34206 │ 127.0.0.1      │      5601 │ tcp     │ RSTRH      │ true       │ true       │            0 │ Cr       │         0 │             0 │         2 │            80 │  7.867813110351562e-06 │          0 │          0 │ NULL    │\n",
       "│ 1696018906.890836 │ CRJjSs2QUPE8pBJeQd │ 127.0.0.1    │     34210 │ 127.0.0.1      │      5601 │ tcp     │ RSTRH      │ true       │ true       │            0 │ Cr       │         0 │             0 │         2 │            80 │ 1.0967254638671875e-05 │          0 │          0 │ NULL    │\n",
       "│ 1696018906.890931 │ Cg6CSz2rQquEFxSoRk │ 127.0.0.1    │     34212 │ 127.0.0.1      │      5601 │ tcp     │ RSTRH      │ true       │ true       │            0 │ Cr       │         0 │             0 │         2 │            80 │ 1.2159347534179688e-05 │          0 │          0 │ NULL    │\n",
       "│ 1696018901.921446 │ CKUMT1QRYJny6TXi8  │ 192.168.0.10 │      5353 │ 224.0.0.251    │      5353 │ udp     │ S0         │ true       │ false      │            0 │ D        │         1 │            89 │         0 │             0 │                   NULL │       NULL │       NULL │ dns     │\n",
       "│ 1696018820.554161 │ C7MNhp4uTA6gWgypJd │ 192.168.0.95 │     56548 │ 142.251.33.170 │       443 │ tcp     │ SF         │ true       │ false      │            0 │ ShADadFf │        20 │          5747 │        19 │          6445 │      86.39099097251892 │       4699 │       5449 │ ssl     │\n",
       "│ 1696018902.235111 │ CHf8ci4iuePhEOFaDh │ 192.168.0.9  │     34313 │ 192.168.0.2    │        53 │ udp     │ SF         │ true       │ true       │            0 │ Dd       │         1 │            72 │         1 │           231 │  0.0002789497375488281 │         44 │        203 │ dns     │\n",
       "├───────────────────┴────────────────────┴──────────────┴───────────┴────────────────┴───────────┴─────────┴────────────┴────────────┴────────────┴──────────────┴──────────┴───────────┴───────────────┴───────────┴───────────────┴────────────────────────┴────────────┴────────────┴─────────┤\n",
       "│ ? rows (>9999 rows, 20 shown)                                                                                                                                                                                                                                                       20 columns │\n",
       "└────────────────────────────────────────────────────────────────────────────────────────────────────────────────────────────────────────────────────────────────────────────────────────────────────────────────────────────────────────────────────────────────────────────────────────────────┘"
      ]
     },
     "execution_count": 25,
     "metadata": {},
     "output_type": "execute_result"
    }
   ],
   "source": [
    "# Let's now confirm the data can be accessed\n",
    "con.sql('SELECT * FROM conn_log')"
   ]
  },
  {
   "cell_type": "code",
   "execution_count": 26,
   "metadata": {},
   "outputs": [
    {
     "data": {
      "text/plain": [
       "┌──────────────┐\n",
       "│ count_star() │\n",
       "│    int64     │\n",
       "├──────────────┤\n",
       "│        24048 │\n",
       "└──────────────┘"
      ]
     },
     "execution_count": 26,
     "metadata": {},
     "output_type": "execute_result"
    }
   ],
   "source": [
    "# Try a different command\n",
    "# Count the number fo records\n",
    "con.sql('SELECT COUNT(*) FROM conn_log')"
   ]
  },
  {
   "cell_type": "code",
   "execution_count": 27,
   "metadata": {},
   "outputs": [
    {
     "name": "stdout",
     "output_type": "stream",
     "text": [
      "(1696017594.59247, 'ChefyE3DEW1aClvrpg', '127.0.0.1', 6789, '127.0.0.1', 59106, 'tcp', 'OTH', True, True, 0, 'Ccc', 0, 0, 0, 0, None, None, None, None)\n"
     ]
    }
   ],
   "source": [
    "# try the execute command to grab one record\n",
    "con.execute('SELECT * FROM conn_log')\n",
    "print(con.fetchone())"
   ]
  },
  {
   "cell_type": "markdown",
   "metadata": {},
   "source": [
    "**Getting our SQL Kung-fu on**"
   ]
  },
  {
   "cell_type": "code",
   "execution_count": 28,
   "metadata": {},
   "outputs": [
    {
     "data": {
      "text/plain": [
       "┌───────────────────┬────────────────────┬──────────────┬───────────┬────────────────┬───────────┬─────────┬────────────┬────────────┬────────────┬──────────────┬─────────────┬───────────┬───────────────┬───────────┬───────────────┬────────────────────┬────────────┬────────────┬─────────┐\n",
       "│        ts         │        uid         │  id.orig_h   │ id.orig_p │   id.resp_h    │ id.resp_p │  proto  │ conn_state │ local_orig │ local_resp │ missed_bytes │   history   │ orig_pkts │ orig_ip_bytes │ resp_pkts │ resp_ip_bytes │      duration      │ orig_bytes │ resp_bytes │ service │\n",
       "│      double       │      varchar       │   varchar    │   int64   │    varchar     │   int64   │ varchar │  varchar   │  boolean   │  boolean   │    int64     │   varchar   │   int64   │     int64     │   int64   │     int64     │       double       │   int64    │   int64    │ varchar │\n",
       "├───────────────────┼────────────────────┼──────────────┼───────────┼────────────────┼───────────┼─────────┼────────────┼────────────┼────────────┼──────────────┼─────────────┼───────────┼───────────────┼───────────┼───────────────┼────────────────────┼────────────┼────────────┼─────────┤\n",
       "│ 1695902349.570724 │ CtdFrS2ZW2F9TjtAV3 │ 192.168.0.31 │     49545 │ 52.226.139.180 │       443 │ tcp     │ RSTR       │ true       │ false      │            0 │ ShADdatr    │      1940 │        179947 │       993 │        214632 │ 115607.98462510109 │     102335 │     173088 │ ssl     │\n",
       "│ 1695985777.608423 │ CncOml3BdQQHaibTti │ 192.168.0.31 │     61204 │ 192.168.0.4    │        22 │ tcp     │ OTH        │ true       │ true       │            0 │ DacAc       │        45 │         26136 │        18 │           720 │ 28853.100048065186 │      24336 │      21888 │ NULL    │\n",
       "│ 1695986467.290568 │ CDlk8k1WOPCBftYas  │ 192.168.0.28 │     50051 │ 194.24.0.155   │       443 │ tcp     │ SF         │ true       │ false      │            0 │ ShADadTTfFr │     34178 │       9027403 │     46280 │      15126779 │ 28258.325418949127 │    7659535 │   13275555 │ ssl     │\n",
       "│ 1695987812.836527 │ C5joBY3pbKN8YCOuxd │ 192.168.0.4  │      9200 │ 192.168.0.31   │     55874 │ tcp     │ OTH        │ true       │ true       │            0 │ CdAaCtCttCD │      7228 │        289124 │     26008 │      28472103 │  29665.03855085373 │    3773030 │   27431294 │ NULL    │\n",
       "│ 1695987822.035829 │ CsqLYG90S5u8wUGji  │ 192.168.0.31 │     55906 │ 192.168.0.4    │      9200 │ tcp     │ OTH        │ true       │ true       │            0 │ DacAcTcTcT  │     37698 │      42754618 │      9589 │        383560 │ 29664.822754859924 │   41183458 │    3923632 │ NULL    │\n",
       "│ 1695987837.823028 │ C3uhyF2oaouFzSjN97 │ 192.168.0.31 │     56024 │ 192.168.0.4    │      9200 │ tcp     │ OTH        │ true       │ true       │            0 │ DacAccc     │     32628 │      40508275 │      5091 │        203640 │ 29650.207310914993 │   39203107 │    4989212 │ NULL    │\n",
       "│  1695987841.26211 │ Crk9iC31gRok9a9xbe │ 192.168.0.31 │     64293 │ 192.168.0.4    │      9200 │ tcp     │ OTH        │ true       │ true       │            0 │ DacAcccc    │    134993 │     179434842 │     14664 │        586560 │ 29641.363101005554 │  174035086 │   20021013 │ NULL    │\n",
       "│ 1695987841.467097 │ CHI4O441XT8p4KCel7 │ 192.168.0.31 │     64292 │ 192.168.0.4    │      9200 │ tcp     │ OTH        │ true       │ true       │            0 │ DacAccc     │     26687 │      31708936 │      4444 │        177760 │  29640.22217488289 │   30641456 │    3466091 │ NULL    │\n",
       "│ 1695987861.700626 │ CaXyts2pErtFF9wXa  │ 192.168.0.31 │     64349 │ 192.168.0.4    │      8220 │ tcp     │ OTH        │ true       │ true       │            0 │ DcTcTAacTcT │      2372 │        503027 │       362 │         14480 │ 29651.999841213226 │     406240 │      25806 │ NULL    │\n",
       "│ 1695987879.732932 │ Ckq79n3YM1DYlGztQj │ 192.168.0.31 │     64402 │ 20.7.2.167     │       443 │ tcp     │ S1         │ true       │ false      │            0 │ ShADdatT    │      1322 │         86325 │       723 │        161477 │ 29591.701333999634 │      33377 │     132533 │ ssl     │\n",
       "├───────────────────┴────────────────────┴──────────────┴───────────┴────────────────┴───────────┴─────────┴────────────┴────────────┴────────────┴──────────────┴─────────────┴───────────┴───────────────┴───────────┴───────────────┴────────────────────┴────────────┴────────────┴─────────┤\n",
       "│ 10 rows                                                                                                                                                                                                                                                                            20 columns │\n",
       "└───────────────────────────────────────────────────────────────────────────────────────────────────────────────────────────────────────────────────────────────────────────────────────────────────────────────────────────────────────────────────────────────────────────────────────────────┘"
      ]
     },
     "execution_count": 28,
     "metadata": {},
     "output_type": "execute_result"
    }
   ],
   "source": [
    "# Let's select the first 10 records and order them by the timestamp (ts) column\n",
    "con.sql('SELECT * FROM conn_log ORDER BY ts LIMIT 10')"
   ]
  },
  {
   "cell_type": "code",
   "execution_count": 29,
   "metadata": {},
   "outputs": [
    {
     "data": {
      "text/plain": [
       "┌────────────────────┐\n",
       "│ count(\"id.orig_h\") │\n",
       "│       int64        │\n",
       "├────────────────────┤\n",
       "│              24048 │\n",
       "└────────────────────┘"
      ]
     },
     "execution_count": 29,
     "metadata": {},
     "output_type": "execute_result"
    }
   ],
   "source": [
    "# How many unique source IPs. are there\n",
    "con.sql('SELECT DISTINCT COUNT(\"id.orig_h\") FROM conn_log')"
   ]
  },
  {
   "cell_type": "code",
   "execution_count": 30,
   "metadata": {},
   "outputs": [
    {
     "data": {
      "text/plain": [
       "┌───────────────────────────┐\n",
       "│         id.orig_h         │\n",
       "│          varchar          │\n",
       "├───────────────────────────┤\n",
       "│ 192.168.0.62              │\n",
       "│ 192.168.0.75              │\n",
       "│ 192.168.0.24              │\n",
       "│ 192.168.0.31              │\n",
       "│ fe80::eb3f:74b2:4679:6bae │\n",
       "│ fe80::8450:9cff:fe16:ef95 │\n",
       "│ 192.168.0.2               │\n",
       "│ 192.168.0.78              │\n",
       "│ 192.168.0.8               │\n",
       "│ 144.195.33.213            │\n",
       "├───────────────────────────┤\n",
       "│          10 rows          │\n",
       "└───────────────────────────┘"
      ]
     },
     "execution_count": 30,
     "metadata": {},
     "output_type": "execute_result"
    }
   ],
   "source": [
    "# Get 10 unique source IP addresses\n",
    "con.sql('SELECT DISTINCT \"id.orig_h\" FROM conn_log ORDER BY ts LIMIT 10')"
   ]
  },
  {
   "cell_type": "code",
   "execution_count": 31,
   "metadata": {},
   "outputs": [
    {
     "data": {
      "text/plain": [
       "┌────────────────────┐\n",
       "│   max(duration)    │\n",
       "│       double       │\n",
       "├────────────────────┤\n",
       "│ 115607.98462510109 │\n",
       "└────────────────────┘"
      ]
     },
     "execution_count": 31,
     "metadata": {},
     "output_type": "execute_result"
    }
   ],
   "source": [
    "# Get the largest duration value from the conn_log table\n",
    "con.sql('SELECT MAX(duration) FROM conn_log')"
   ]
  },
  {
   "cell_type": "code",
   "execution_count": 32,
   "metadata": {},
   "outputs": [
    {
     "data": {
      "text/plain": [
       "┌───────────────────┐\n",
       "│   sum(duration)   │\n",
       "│      double       │\n",
       "├───────────────────┤\n",
       "│ 825393.7917554379 │\n",
       "└───────────────────┘"
      ]
     },
     "execution_count": 32,
     "metadata": {},
     "output_type": "execute_result"
    }
   ],
   "source": [
    "# Get a sum of the duration\n",
    "# Get the largest duration\n",
    "con.sql('SELECT SUM(duration) FROM conn_log')"
   ]
  },
  {
   "cell_type": "code",
   "execution_count": 33,
   "metadata": {},
   "outputs": [
    {
     "data": {
      "text/plain": [
       "┌───────────────────┬────────────────────┬──────────────┬───────────┬────────────────┬───────────┬─────────┬────────────┬────────────┬────────────┬──────────────┬──────────────────┬───────────┬───────────────┬───────────┬───────────────┬────────────────────┬────────────┬────────────┬──────────┐\n",
       "│        ts         │        uid         │  id.orig_h   │ id.orig_p │   id.resp_h    │ id.resp_p │  proto  │ conn_state │ local_orig │ local_resp │ missed_bytes │     history      │ orig_pkts │ orig_ip_bytes │ resp_pkts │ resp_ip_bytes │      duration      │ orig_bytes │ resp_bytes │ service  │\n",
       "│      double       │      varchar       │   varchar    │   int64   │    varchar     │   int64   │ varchar │  varchar   │  boolean   │  boolean   │    int64     │     varchar      │   int64   │     int64     │   int64   │     int64     │       double       │   int64    │   int64    │ varchar  │\n",
       "├───────────────────┼────────────────────┼──────────────┼───────────┼────────────────┼───────────┼─────────┼────────────┼────────────┼────────────┼──────────────┼──────────────────┼───────────┼───────────────┼───────────┼───────────────┼────────────────────┼────────────┼────────────┼──────────┤\n",
       "│ 1696001198.477327 │ CthQmt3D5lmDwrRxUl │ 192.168.0.31 │     64113 │ 165.225.208.44 │       443 │ tcp     │ RSTR       │ true       │ false      │            0 │ ShADadttfr       │       821 │         57635 │      1113 │         77717 │ 16416.052615880966 │      24783 │      32633 │ http,ssl │\n",
       "│ 1695988071.878734 │ CYUQe22Chebdk2ue1e │ 192.168.0.31 │     51760 │ 165.225.208.44 │       443 │ tcp     │ RSTR       │ true       │ false      │            0 │ ShADdaTtr        │     17442 │       8006593 │     15058 │       1295176 │  29656.26557993889 │    7308515 │     692511 │ http,ssl │\n",
       "│ 1695993805.606007 │ CRqfCIG05qUCcFcF   │ 192.168.0.31 │     55543 │ 165.225.208.44 │       443 │ tcp     │ RSTR       │ true       │ false      │            0 │ ShADdafr         │      3150 │        757605 │      1603 │        212389 │ 23924.337345838547 │     631593 │     148257 │ http,ssl │\n",
       "│ 1696017154.127833 │ CfLKAp3pg8ZlCxVyk  │ 192.168.0.95 │     35630 │ 34.98.105.85   │       443 │ tcp     │ SF         │ true       │ false      │            0 │ ShADadtFf        │        20 │          2284 │        22 │          3070 │  618.8180551528931 │       1212 │       1772 │ ssl      │\n",
       "│ 1696017188.275085 │ CSRhux2BwyF9SSzjDf │ 192.168.0.95 │     49344 │ 34.149.46.130  │       443 │ tcp     │ SF         │ true       │ false      │            0 │ ShADadtFf        │        18 │          1960 │        15 │          6040 │   610.352108001709 │       1004 │       5213 │ ssl      │\n",
       "│ 1696013462.724543 │ C9cDe6AsEAPhEMtz3  │ 192.168.0.4  │     45896 │ 192.168.0.4    │      9200 │ tcp     │ OTH        │ true       │ true       │            0 │ CcCcdtCcCc       │         0 │             0 │         8 │        158640 │  829.5498898029327 │          0 │    1130643 │ NULL     │\n",
       "│ 1696014296.808231 │ Cz0pxS1Dc1Hyeee1oi │ 192.168.0.95 │     36214 │ 35.190.43.134  │       443 │ tcp     │ SF         │ true       │ false      │            0 │ ShADadtTtTFf     │      2631 │       1228772 │      3102 │        381324 │   3605.96328496933 │    1085598 │     217061 │ ssl      │\n",
       "│ 1696014305.462842 │ C9h2V91yAFnETUWv3d │ 192.168.0.95 │     42906 │ 35.241.16.93   │       443 │ tcp     │ SF         │ true       │ false      │            0 │ ShADadtTtTtFf    │    101623 │       5545672 │    198999 │     282826980 │ 3600.5622630119324 │     238732 │  272326569 │ ssl      │\n",
       "│ 1696014299.370463 │ C0Qevr3bZU4jN01Jxi │ 192.168.0.95 │     45584 │ 35.244.195.33  │       443 │ tcp     │ SF         │ true       │ false      │            0 │ ShADadTtTFf      │      2886 │       2271164 │      3173 │        210558 │  3633.840800046921 │    2109815 │      44965 │ ssl      │\n",
       "│ 1696014302.590874 │ CqNKQg2vpiCuP7sbyc │ 192.168.0.95 │     36194 │ 35.190.43.134  │       443 │ tcp     │ SF         │ true       │ false      │            0 │ ShADadTttFf      │      3371 │       2609139 │      4730 │       3203393 │ 3635.4489800930023 │    2430560 │    2949340 │ ssl      │\n",
       "│         ·         │         ·          │      ·       │       ·   │      ·         │        ·  │  ·      │ ·          │  ·         │  ·         │            · │    ·             │        ·  │          ·    │        ·  │           ·   │          ·         │       ·    │       ·    │  ·       │\n",
       "│         ·         │         ·          │      ·       │       ·   │      ·         │        ·  │  ·      │ ·          │  ·         │  ·         │            · │    ·             │        ·  │          ·    │        ·  │           ·   │          ·         │       ·    │       ·    │  ·       │\n",
       "│         ·         │         ·          │      ·       │       ·   │      ·         │        ·  │  ·      │ ·          │  ·         │  ·         │            · │    ·             │        ·  │          ·    │        ·  │           ·   │          ·         │       ·    │       ·    │  ·       │\n",
       "│ 1696012901.408566 │ CwhEP81Uxlkbteq98g │ 192.168.0.31 │     53452 │ 192.168.0.4    │      9200 │ tcp     │ OTH        │ true       │ true       │            0 │ DaccAcc          │      3622 │       4019502 │      1019 │         40760 │  4567.867408037186 │    3874622 │    9237265 │ NULL     │\n",
       "│ 1695987879.732932 │ Ckq79n3YM1DYlGztQj │ 192.168.0.31 │     64402 │ 20.7.2.167     │       443 │ tcp     │ S1         │ true       │ false      │            0 │ ShADdatT         │      1322 │         86325 │       723 │        161477 │ 29591.701333999634 │      33377 │     132533 │ ssl      │\n",
       "│ 1695987812.836527 │ C5joBY3pbKN8YCOuxd │ 192.168.0.4  │      9200 │ 192.168.0.31   │     55874 │ tcp     │ OTH        │ true       │ true       │            0 │ CdAaCtCttCD      │      7228 │        289124 │     26008 │      28472103 │  29665.03855085373 │    3773030 │   27431294 │ NULL     │\n",
       "│ 1695987841.467097 │ CHI4O441XT8p4KCel7 │ 192.168.0.31 │     64292 │ 192.168.0.4    │      9200 │ tcp     │ OTH        │ true       │ true       │            0 │ DacAccc          │     26687 │      31708936 │      4444 │        177760 │  29640.22217488289 │   30641456 │    3466091 │ NULL     │\n",
       "│  1695987841.26211 │ Crk9iC31gRok9a9xbe │ 192.168.0.31 │     64293 │ 192.168.0.4    │      9200 │ tcp     │ OTH        │ true       │ true       │            0 │ DacAcccc         │    134993 │     179434842 │     14664 │        586560 │ 29641.363101005554 │  174035086 │   20021013 │ NULL     │\n",
       "│ 1695987822.035829 │ CsqLYG90S5u8wUGji  │ 192.168.0.31 │     55906 │ 192.168.0.4    │      9200 │ tcp     │ OTH        │ true       │ true       │            0 │ DacAcTcTcT       │     37698 │      42754618 │      9589 │        383560 │ 29664.822754859924 │   41183458 │    3923632 │ NULL     │\n",
       "│ 1695987837.823028 │ C3uhyF2oaouFzSjN97 │ 192.168.0.31 │     56024 │ 192.168.0.4    │      9200 │ tcp     │ OTH        │ true       │ true       │            0 │ DacAccc          │     32628 │      40508275 │      5091 │        203640 │ 29650.207310914993 │   39203107 │    4989212 │ NULL     │\n",
       "│ 1695987861.700626 │ CaXyts2pErtFF9wXa  │ 192.168.0.31 │     64349 │ 192.168.0.4    │      8220 │ tcp     │ OTH        │ true       │ true       │            0 │ DcTcTAacTcT      │      2372 │        503027 │       362 │         14480 │ 29651.999841213226 │     406240 │      25806 │ NULL     │\n",
       "│ 1696018279.366769 │ CiIl0H14bcFsvU5rl8 │ 192.168.0.28 │     62619 │ 52.236.189.131 │       443 │ tcp     │ SF         │ true       │ false      │            0 │ ShADadFRf        │        36 │          3259 │        23 │          5250 │  2881.177577018738 │       1807 │       4318 │ ssl      │\n",
       "│ 1696016643.701357 │ CKp1k11TDBV8LP78z8 │ 192.168.0.4  │      9200 │ 192.168.0.4    │     52692 │ tcp     │ OTH        │ true       │ true       │            0 │ CccCDTdtcCTtcTCt │       950 │      19671082 │       354 │       6590072 │  950.9789581298828 │   11236853 │    5558486 │ NULL     │\n",
       "├───────────────────┴────────────────────┴──────────────┴───────────┴────────────────┴───────────┴─────────┴────────────┴────────────┴────────────┴──────────────┴──────────────────┴───────────┴───────────────┴───────────┴───────────────┴────────────────────┴────────────┴────────────┴──────────┤\n",
       "│ 117 rows (20 shown)                                                                                                                                                                                                                                                                      20 columns │\n",
       "└─────────────────────────────────────────────────────────────────────────────────────────────────────────────────────────────────────────────────────────────────────────────────────────────────────────────────────────────────────────────────────────────────────────────────────────────────────┘"
      ]
     },
     "execution_count": 33,
     "metadata": {},
     "output_type": "execute_result"
    }
   ],
   "source": [
    "# Find all records where the duration is greater than 10 minutes\n",
    "con.sql('SELECT * FROM conn_log WHERE duration > 600')"
   ]
  },
  {
   "cell_type": "code",
   "execution_count": 34,
   "metadata": {},
   "outputs": [
    {
     "data": {
      "text/plain": [
       "┌───────────────┬─────────────┬─────────────────────┬───────────────────────────┬───────────────┬────────────────────┬────────────────────┬───────────────────────┬────────────────────────┬─────────────────────┬───────┬─────────────────┐\n",
       "│  column_name  │ column_type │         min         │            max            │ approx_unique │        avg         │        std         │          q25          │          q50           │         q75         │ count │ null_percentage │\n",
       "│    varchar    │   varchar   │       varchar       │          varchar          │     int64     │      varchar       │      varchar       │        varchar        │        varchar         │       varchar       │ int64 │  decimal(9,2)   │\n",
       "├───────────────┼─────────────┼─────────────────────┼───────────────────────────┼───────────────┼────────────────────┼────────────────────┼───────────────────────┼────────────────────────┼─────────────────────┼───────┼─────────────────┤\n",
       "│ ts            │ DOUBLE      │ 1695902349.570724   │ 1696021196.891631         │         23507 │ 1696019189.3099442 │ 1522.739253401068  │ 1696018291.1364       │ 1696019188.5998018     │ 1696020144.2070863  │ 24048 │            0.00 │\n",
       "│ uid           │ VARCHAR     │ C00QBOAfKJrEqHbVd   │ Czzwwao74C247141          │         27708 │ NULL               │ NULL               │ NULL                  │ NULL                   │ NULL                │ 24048 │            0.00 │\n",
       "│ id.orig_h     │ VARCHAR     │ 0.0.0.0             │ fe80::feff:9d34:8053:3941 │            43 │ NULL               │ NULL               │ NULL                  │ NULL                   │ NULL                │ 24048 │            0.00 │\n",
       "│ id.orig_p     │ BIGINT      │ 3                   │ 65533                     │          8083 │ 44199.226921157686 │ 15648.404314729143 │ 36980                 │ 48824                  │ 55423               │ 24048 │            0.00 │\n",
       "│ id.resp_h     │ VARCHAR     │ 10.20.68.131        │ ff02::fb                  │           556 │ NULL               │ NULL               │ NULL                  │ NULL                   │ NULL                │ 24048 │            0.00 │\n",
       "│ id.resp_p     │ BIGINT      │ 0                   │ 60990                     │           822 │ 8453.76355622089   │ 13554.57326964631  │ 80                    │ 5601                   │ 7804                │ 24048 │            0.00 │\n",
       "│ proto         │ VARCHAR     │ icmp                │ udp                       │             3 │ NULL               │ NULL               │ NULL                  │ NULL                   │ NULL                │ 24048 │            0.00 │\n",
       "│ conn_state    │ VARCHAR     │ OTH                 │ SHR                       │            12 │ NULL               │ NULL               │ NULL                  │ NULL                   │ NULL                │ 24048 │            0.00 │\n",
       "│ local_orig    │ BOOLEAN     │ false               │ true                      │             2 │ NULL               │ NULL               │ NULL                  │ NULL                   │ NULL                │ 24048 │            0.00 │\n",
       "│ local_resp    │ BOOLEAN     │ false               │ true                      │             2 │ NULL               │ NULL               │ NULL                  │ NULL                   │ NULL                │ 24048 │            0.00 │\n",
       "│ missed_bytes  │ BIGINT      │ 0                   │ 0                         │             1 │ 0.0                │ 0.0                │ 0                     │ 0                      │ 0                   │ 24048 │            0.00 │\n",
       "│ history       │ VARCHAR     │ AR                  │ ^r                        │           336 │ NULL               │ NULL               │ NULL                  │ NULL                   │ NULL                │ 24048 │            0.35 │\n",
       "│ orig_pkts     │ BIGINT      │ 0                   │ 147309                    │           234 │ 30.57871756487026  │ 1516.8692623036454 │ 0                     │ 0                      │ 1                   │ 24048 │            0.00 │\n",
       "│ orig_ip_bytes │ BIGINT      │ 0                   │ 179434842                 │          1785 │ 52559.4756736527   │ 1425437.5443200406 │ 0                     │ 0                      │ 72                  │ 24048 │            0.00 │\n",
       "│ resp_pkts     │ BIGINT      │ 0                   │ 836146                    │           301 │ 58.96935296074518  │ 5560.4751666363445 │ 0                     │ 0                      │ 1                   │ 24048 │            0.00 │\n",
       "│ resp_ip_bytes │ BIGINT      │ 0                   │ 1253112745                │          1798 │ 106486.88165335995 │ 8331311.519403015  │ 0                     │ 0                      │ 80                  │ 24048 │            0.00 │\n",
       "│ duration      │ DOUBLE      │ 9.5367431640625e-07 │ 115607.98462510109        │          5229 │ 81.07994025102533  │ 1519.5804669497707 │ 3.808511394914908e-05 │ 0.00032864257265000535 │ 0.19543872098509354 │ 24048 │           57.67 │\n",
       "│ orig_bytes    │ BIGINT      │ 0                   │ 174035086                 │          1921 │ 88125.17396856581  │ 1952446.0773816886 │ 0                     │ 44                     │ 218                 │ 24048 │           57.67 │\n",
       "│ resp_bytes    │ BIGINT      │ 0                   │ 1207605466                │          2177 │ 222419.0982318271  │ 12304760.588368597 │ 0                     │ 110                    │ 203                 │ 24048 │           57.67 │\n",
       "│ service       │ VARCHAR     │ dhcp                │ syslog                    │             7 │ NULL               │ NULL               │ NULL                  │ NULL                   │ NULL                │ 24048 │           68.67 │\n",
       "├───────────────┴─────────────┴─────────────────────┴───────────────────────────┴───────────────┴────────────────────┴────────────────────┴───────────────────────┴────────────────────────┴─────────────────────┴───────┴─────────────────┤\n",
       "│ 20 rows                                                                                                                                                                                                                       12 columns │\n",
       "└──────────────────────────────────────────────────────────────────────────────────────────────────────────────────────────────────────────────────────────────────────────────────────────────────────────────────────────────────────────┘"
      ]
     },
     "execution_count": 34,
     "metadata": {},
     "output_type": "execute_result"
    }
   ],
   "source": [
    "# Summarize the table\n",
    "con.sql(query='SUMMARIZE conn_log')"
   ]
  },
  {
   "cell_type": "code",
   "execution_count": 35,
   "metadata": {},
   "outputs": [
    {
     "data": {
      "text/html": [
       "<div>\n",
       "<style scoped>\n",
       "    .dataframe tbody tr th:only-of-type {\n",
       "        vertical-align: middle;\n",
       "    }\n",
       "\n",
       "    .dataframe tbody tr th {\n",
       "        vertical-align: top;\n",
       "    }\n",
       "\n",
       "    .dataframe thead th {\n",
       "        text-align: right;\n",
       "    }\n",
       "</style>\n",
       "<table border=\"1\" class=\"dataframe\">\n",
       "  <thead>\n",
       "    <tr style=\"text-align: right;\">\n",
       "      <th></th>\n",
       "      <th>id.orig_h</th>\n",
       "      <th>id.resp_h</th>\n",
       "    </tr>\n",
       "  </thead>\n",
       "  <tbody>\n",
       "    <tr>\n",
       "      <th>0</th>\n",
       "      <td>192.168.0.31</td>\n",
       "      <td>165.225.208.44</td>\n",
       "    </tr>\n",
       "    <tr>\n",
       "      <th>1</th>\n",
       "      <td>192.168.0.31</td>\n",
       "      <td>165.225.208.44</td>\n",
       "    </tr>\n",
       "    <tr>\n",
       "      <th>2</th>\n",
       "      <td>192.168.0.31</td>\n",
       "      <td>165.225.208.44</td>\n",
       "    </tr>\n",
       "    <tr>\n",
       "      <th>3</th>\n",
       "      <td>192.168.0.95</td>\n",
       "      <td>34.98.105.85</td>\n",
       "    </tr>\n",
       "    <tr>\n",
       "      <th>4</th>\n",
       "      <td>192.168.0.95</td>\n",
       "      <td>34.149.46.130</td>\n",
       "    </tr>\n",
       "    <tr>\n",
       "      <th>...</th>\n",
       "      <td>...</td>\n",
       "      <td>...</td>\n",
       "    </tr>\n",
       "    <tr>\n",
       "      <th>112</th>\n",
       "      <td>192.168.0.31</td>\n",
       "      <td>192.168.0.4</td>\n",
       "    </tr>\n",
       "    <tr>\n",
       "      <th>113</th>\n",
       "      <td>192.168.0.31</td>\n",
       "      <td>192.168.0.4</td>\n",
       "    </tr>\n",
       "    <tr>\n",
       "      <th>114</th>\n",
       "      <td>192.168.0.31</td>\n",
       "      <td>192.168.0.4</td>\n",
       "    </tr>\n",
       "    <tr>\n",
       "      <th>115</th>\n",
       "      <td>192.168.0.28</td>\n",
       "      <td>52.236.189.131</td>\n",
       "    </tr>\n",
       "    <tr>\n",
       "      <th>116</th>\n",
       "      <td>192.168.0.4</td>\n",
       "      <td>192.168.0.4</td>\n",
       "    </tr>\n",
       "  </tbody>\n",
       "</table>\n",
       "<p>117 rows × 2 columns</p>\n",
       "</div>"
      ],
      "text/plain": [
       "        id.orig_h       id.resp_h\n",
       "0    192.168.0.31  165.225.208.44\n",
       "1    192.168.0.31  165.225.208.44\n",
       "2    192.168.0.31  165.225.208.44\n",
       "3    192.168.0.95    34.98.105.85\n",
       "4    192.168.0.95   34.149.46.130\n",
       "..            ...             ...\n",
       "112  192.168.0.31     192.168.0.4\n",
       "113  192.168.0.31     192.168.0.4\n",
       "114  192.168.0.31     192.168.0.4\n",
       "115  192.168.0.28  52.236.189.131\n",
       "116   192.168.0.4     192.168.0.4\n",
       "\n",
       "[117 rows x 2 columns]"
      ]
     },
     "execution_count": 35,
     "metadata": {},
     "output_type": "execute_result"
    }
   ],
   "source": [
    "# We might instead want to see the information above as a dataframe\n",
    "# Let's use the **.df** function to get the data as a dataframe\n",
    "con.sql('SELECT \"id.orig_h\", \"id.resp_h\" FROM conn_log WHERE duration > 600').df()"
   ]
  },
  {
   "cell_type": "code",
   "execution_count": 36,
   "metadata": {},
   "outputs": [
    {
     "data": {
      "text/html": [
       "<div>\n",
       "<style scoped>\n",
       "    .dataframe tbody tr th:only-of-type {\n",
       "        vertical-align: middle;\n",
       "    }\n",
       "\n",
       "    .dataframe tbody tr th {\n",
       "        vertical-align: top;\n",
       "    }\n",
       "\n",
       "    .dataframe thead th {\n",
       "        text-align: right;\n",
       "    }\n",
       "</style>\n",
       "<table border=\"1\" class=\"dataframe\">\n",
       "  <thead>\n",
       "    <tr style=\"text-align: right;\">\n",
       "      <th></th>\n",
       "      <th>ts</th>\n",
       "      <th>uid</th>\n",
       "      <th>id.orig_h</th>\n",
       "      <th>id.orig_p</th>\n",
       "      <th>id.resp_h</th>\n",
       "      <th>id.resp_p</th>\n",
       "      <th>proto</th>\n",
       "      <th>conn_state</th>\n",
       "      <th>local_orig</th>\n",
       "      <th>local_resp</th>\n",
       "      <th>missed_bytes</th>\n",
       "      <th>history</th>\n",
       "      <th>orig_pkts</th>\n",
       "      <th>orig_ip_bytes</th>\n",
       "      <th>resp_pkts</th>\n",
       "      <th>resp_ip_bytes</th>\n",
       "      <th>duration</th>\n",
       "      <th>orig_bytes</th>\n",
       "      <th>resp_bytes</th>\n",
       "      <th>service</th>\n",
       "    </tr>\n",
       "  </thead>\n",
       "  <tbody>\n",
       "    <tr>\n",
       "      <th>0</th>\n",
       "      <td>1.696001e+09</td>\n",
       "      <td>CthQmt3D5lmDwrRxUl</td>\n",
       "      <td>192.168.0.31</td>\n",
       "      <td>64113</td>\n",
       "      <td>165.225.208.44</td>\n",
       "      <td>443</td>\n",
       "      <td>tcp</td>\n",
       "      <td>RSTR</td>\n",
       "      <td>True</td>\n",
       "      <td>False</td>\n",
       "      <td>0</td>\n",
       "      <td>ShADadttfr</td>\n",
       "      <td>821</td>\n",
       "      <td>57635</td>\n",
       "      <td>1113</td>\n",
       "      <td>77717</td>\n",
       "      <td>16416.052616</td>\n",
       "      <td>24783</td>\n",
       "      <td>32633</td>\n",
       "      <td>http,ssl</td>\n",
       "    </tr>\n",
       "    <tr>\n",
       "      <th>1</th>\n",
       "      <td>1.695988e+09</td>\n",
       "      <td>CYUQe22Chebdk2ue1e</td>\n",
       "      <td>192.168.0.31</td>\n",
       "      <td>51760</td>\n",
       "      <td>165.225.208.44</td>\n",
       "      <td>443</td>\n",
       "      <td>tcp</td>\n",
       "      <td>RSTR</td>\n",
       "      <td>True</td>\n",
       "      <td>False</td>\n",
       "      <td>0</td>\n",
       "      <td>ShADdaTtr</td>\n",
       "      <td>17442</td>\n",
       "      <td>8006593</td>\n",
       "      <td>15058</td>\n",
       "      <td>1295176</td>\n",
       "      <td>29656.265580</td>\n",
       "      <td>7308515</td>\n",
       "      <td>692511</td>\n",
       "      <td>http,ssl</td>\n",
       "    </tr>\n",
       "    <tr>\n",
       "      <th>2</th>\n",
       "      <td>1.695994e+09</td>\n",
       "      <td>CRqfCIG05qUCcFcF</td>\n",
       "      <td>192.168.0.31</td>\n",
       "      <td>55543</td>\n",
       "      <td>165.225.208.44</td>\n",
       "      <td>443</td>\n",
       "      <td>tcp</td>\n",
       "      <td>RSTR</td>\n",
       "      <td>True</td>\n",
       "      <td>False</td>\n",
       "      <td>0</td>\n",
       "      <td>ShADdafr</td>\n",
       "      <td>3150</td>\n",
       "      <td>757605</td>\n",
       "      <td>1603</td>\n",
       "      <td>212389</td>\n",
       "      <td>23924.337346</td>\n",
       "      <td>631593</td>\n",
       "      <td>148257</td>\n",
       "      <td>http,ssl</td>\n",
       "    </tr>\n",
       "    <tr>\n",
       "      <th>3</th>\n",
       "      <td>1.696017e+09</td>\n",
       "      <td>CfLKAp3pg8ZlCxVyk</td>\n",
       "      <td>192.168.0.95</td>\n",
       "      <td>35630</td>\n",
       "      <td>34.98.105.85</td>\n",
       "      <td>443</td>\n",
       "      <td>tcp</td>\n",
       "      <td>SF</td>\n",
       "      <td>True</td>\n",
       "      <td>False</td>\n",
       "      <td>0</td>\n",
       "      <td>ShADadtFf</td>\n",
       "      <td>20</td>\n",
       "      <td>2284</td>\n",
       "      <td>22</td>\n",
       "      <td>3070</td>\n",
       "      <td>618.818055</td>\n",
       "      <td>1212</td>\n",
       "      <td>1772</td>\n",
       "      <td>ssl</td>\n",
       "    </tr>\n",
       "    <tr>\n",
       "      <th>4</th>\n",
       "      <td>1.696017e+09</td>\n",
       "      <td>CSRhux2BwyF9SSzjDf</td>\n",
       "      <td>192.168.0.95</td>\n",
       "      <td>49344</td>\n",
       "      <td>34.149.46.130</td>\n",
       "      <td>443</td>\n",
       "      <td>tcp</td>\n",
       "      <td>SF</td>\n",
       "      <td>True</td>\n",
       "      <td>False</td>\n",
       "      <td>0</td>\n",
       "      <td>ShADadtFf</td>\n",
       "      <td>18</td>\n",
       "      <td>1960</td>\n",
       "      <td>15</td>\n",
       "      <td>6040</td>\n",
       "      <td>610.352108</td>\n",
       "      <td>1004</td>\n",
       "      <td>5213</td>\n",
       "      <td>ssl</td>\n",
       "    </tr>\n",
       "    <tr>\n",
       "      <th>...</th>\n",
       "      <td>...</td>\n",
       "      <td>...</td>\n",
       "      <td>...</td>\n",
       "      <td>...</td>\n",
       "      <td>...</td>\n",
       "      <td>...</td>\n",
       "      <td>...</td>\n",
       "      <td>...</td>\n",
       "      <td>...</td>\n",
       "      <td>...</td>\n",
       "      <td>...</td>\n",
       "      <td>...</td>\n",
       "      <td>...</td>\n",
       "      <td>...</td>\n",
       "      <td>...</td>\n",
       "      <td>...</td>\n",
       "      <td>...</td>\n",
       "      <td>...</td>\n",
       "      <td>...</td>\n",
       "      <td>...</td>\n",
       "    </tr>\n",
       "    <tr>\n",
       "      <th>112</th>\n",
       "      <td>1.695988e+09</td>\n",
       "      <td>CsqLYG90S5u8wUGji</td>\n",
       "      <td>192.168.0.31</td>\n",
       "      <td>55906</td>\n",
       "      <td>192.168.0.4</td>\n",
       "      <td>9200</td>\n",
       "      <td>tcp</td>\n",
       "      <td>OTH</td>\n",
       "      <td>True</td>\n",
       "      <td>True</td>\n",
       "      <td>0</td>\n",
       "      <td>DacAcTcTcT</td>\n",
       "      <td>37698</td>\n",
       "      <td>42754618</td>\n",
       "      <td>9589</td>\n",
       "      <td>383560</td>\n",
       "      <td>29664.822755</td>\n",
       "      <td>41183458</td>\n",
       "      <td>3923632</td>\n",
       "      <td>None</td>\n",
       "    </tr>\n",
       "    <tr>\n",
       "      <th>113</th>\n",
       "      <td>1.695988e+09</td>\n",
       "      <td>C3uhyF2oaouFzSjN97</td>\n",
       "      <td>192.168.0.31</td>\n",
       "      <td>56024</td>\n",
       "      <td>192.168.0.4</td>\n",
       "      <td>9200</td>\n",
       "      <td>tcp</td>\n",
       "      <td>OTH</td>\n",
       "      <td>True</td>\n",
       "      <td>True</td>\n",
       "      <td>0</td>\n",
       "      <td>DacAccc</td>\n",
       "      <td>32628</td>\n",
       "      <td>40508275</td>\n",
       "      <td>5091</td>\n",
       "      <td>203640</td>\n",
       "      <td>29650.207311</td>\n",
       "      <td>39203107</td>\n",
       "      <td>4989212</td>\n",
       "      <td>None</td>\n",
       "    </tr>\n",
       "    <tr>\n",
       "      <th>114</th>\n",
       "      <td>1.695988e+09</td>\n",
       "      <td>CaXyts2pErtFF9wXa</td>\n",
       "      <td>192.168.0.31</td>\n",
       "      <td>64349</td>\n",
       "      <td>192.168.0.4</td>\n",
       "      <td>8220</td>\n",
       "      <td>tcp</td>\n",
       "      <td>OTH</td>\n",
       "      <td>True</td>\n",
       "      <td>True</td>\n",
       "      <td>0</td>\n",
       "      <td>DcTcTAacTcT</td>\n",
       "      <td>2372</td>\n",
       "      <td>503027</td>\n",
       "      <td>362</td>\n",
       "      <td>14480</td>\n",
       "      <td>29651.999841</td>\n",
       "      <td>406240</td>\n",
       "      <td>25806</td>\n",
       "      <td>None</td>\n",
       "    </tr>\n",
       "    <tr>\n",
       "      <th>115</th>\n",
       "      <td>1.696018e+09</td>\n",
       "      <td>CiIl0H14bcFsvU5rl8</td>\n",
       "      <td>192.168.0.28</td>\n",
       "      <td>62619</td>\n",
       "      <td>52.236.189.131</td>\n",
       "      <td>443</td>\n",
       "      <td>tcp</td>\n",
       "      <td>SF</td>\n",
       "      <td>True</td>\n",
       "      <td>False</td>\n",
       "      <td>0</td>\n",
       "      <td>ShADadFRf</td>\n",
       "      <td>36</td>\n",
       "      <td>3259</td>\n",
       "      <td>23</td>\n",
       "      <td>5250</td>\n",
       "      <td>2881.177577</td>\n",
       "      <td>1807</td>\n",
       "      <td>4318</td>\n",
       "      <td>ssl</td>\n",
       "    </tr>\n",
       "    <tr>\n",
       "      <th>116</th>\n",
       "      <td>1.696017e+09</td>\n",
       "      <td>CKp1k11TDBV8LP78z8</td>\n",
       "      <td>192.168.0.4</td>\n",
       "      <td>9200</td>\n",
       "      <td>192.168.0.4</td>\n",
       "      <td>52692</td>\n",
       "      <td>tcp</td>\n",
       "      <td>OTH</td>\n",
       "      <td>True</td>\n",
       "      <td>True</td>\n",
       "      <td>0</td>\n",
       "      <td>CccCDTdtcCTtcTCt</td>\n",
       "      <td>950</td>\n",
       "      <td>19671082</td>\n",
       "      <td>354</td>\n",
       "      <td>6590072</td>\n",
       "      <td>950.978958</td>\n",
       "      <td>11236853</td>\n",
       "      <td>5558486</td>\n",
       "      <td>None</td>\n",
       "    </tr>\n",
       "  </tbody>\n",
       "</table>\n",
       "<p>117 rows × 20 columns</p>\n",
       "</div>"
      ],
      "text/plain": [
       "               ts                 uid     id.orig_h  id.orig_p  \\\n",
       "0    1.696001e+09  CthQmt3D5lmDwrRxUl  192.168.0.31      64113   \n",
       "1    1.695988e+09  CYUQe22Chebdk2ue1e  192.168.0.31      51760   \n",
       "2    1.695994e+09    CRqfCIG05qUCcFcF  192.168.0.31      55543   \n",
       "3    1.696017e+09   CfLKAp3pg8ZlCxVyk  192.168.0.95      35630   \n",
       "4    1.696017e+09  CSRhux2BwyF9SSzjDf  192.168.0.95      49344   \n",
       "..            ...                 ...           ...        ...   \n",
       "112  1.695988e+09   CsqLYG90S5u8wUGji  192.168.0.31      55906   \n",
       "113  1.695988e+09  C3uhyF2oaouFzSjN97  192.168.0.31      56024   \n",
       "114  1.695988e+09   CaXyts2pErtFF9wXa  192.168.0.31      64349   \n",
       "115  1.696018e+09  CiIl0H14bcFsvU5rl8  192.168.0.28      62619   \n",
       "116  1.696017e+09  CKp1k11TDBV8LP78z8   192.168.0.4       9200   \n",
       "\n",
       "          id.resp_h  id.resp_p proto conn_state  local_orig  local_resp  \\\n",
       "0    165.225.208.44        443   tcp       RSTR        True       False   \n",
       "1    165.225.208.44        443   tcp       RSTR        True       False   \n",
       "2    165.225.208.44        443   tcp       RSTR        True       False   \n",
       "3      34.98.105.85        443   tcp         SF        True       False   \n",
       "4     34.149.46.130        443   tcp         SF        True       False   \n",
       "..              ...        ...   ...        ...         ...         ...   \n",
       "112     192.168.0.4       9200   tcp        OTH        True        True   \n",
       "113     192.168.0.4       9200   tcp        OTH        True        True   \n",
       "114     192.168.0.4       8220   tcp        OTH        True        True   \n",
       "115  52.236.189.131        443   tcp         SF        True       False   \n",
       "116     192.168.0.4      52692   tcp        OTH        True        True   \n",
       "\n",
       "     missed_bytes           history  orig_pkts  orig_ip_bytes  resp_pkts  \\\n",
       "0               0        ShADadttfr        821          57635       1113   \n",
       "1               0         ShADdaTtr      17442        8006593      15058   \n",
       "2               0          ShADdafr       3150         757605       1603   \n",
       "3               0         ShADadtFf         20           2284         22   \n",
       "4               0         ShADadtFf         18           1960         15   \n",
       "..            ...               ...        ...            ...        ...   \n",
       "112             0        DacAcTcTcT      37698       42754618       9589   \n",
       "113             0           DacAccc      32628       40508275       5091   \n",
       "114             0       DcTcTAacTcT       2372         503027        362   \n",
       "115             0         ShADadFRf         36           3259         23   \n",
       "116             0  CccCDTdtcCTtcTCt        950       19671082        354   \n",
       "\n",
       "     resp_ip_bytes      duration  orig_bytes  resp_bytes   service  \n",
       "0            77717  16416.052616       24783       32633  http,ssl  \n",
       "1          1295176  29656.265580     7308515      692511  http,ssl  \n",
       "2           212389  23924.337346      631593      148257  http,ssl  \n",
       "3             3070    618.818055        1212        1772       ssl  \n",
       "4             6040    610.352108        1004        5213       ssl  \n",
       "..             ...           ...         ...         ...       ...  \n",
       "112         383560  29664.822755    41183458     3923632      None  \n",
       "113         203640  29650.207311    39203107     4989212      None  \n",
       "114          14480  29651.999841      406240       25806      None  \n",
       "115           5250   2881.177577        1807        4318       ssl  \n",
       "116        6590072    950.978958    11236853     5558486      None  \n",
       "\n",
       "[117 rows x 20 columns]"
      ]
     },
     "execution_count": 36,
     "metadata": {},
     "output_type": "execute_result"
    }
   ],
   "source": [
    "# Let pull back all the tables and some rows and store these into a dataframe\n",
    "tmp_df = con.sql('SELECT * FROM conn_log WHERE duration > 600').df()\n",
    "tmp_df"
   ]
  },
  {
   "cell_type": "code",
   "execution_count": 37,
   "metadata": {},
   "outputs": [
    {
     "data": {
      "text/plain": [
       "┌──────────────────┬────────────────────┬─────────────┬───────────┬─────────────┬───────────┬─────────┬────────────┬────────────┬────────────┬──────────────┬─────────┬───────────┬───────────────┬───────────┬───────────────┬───────────────────┬────────────┬────────────┬─────────┐\n",
       "│        ts        │        uid         │  id.orig_h  │ id.orig_p │  id.resp_h  │ id.resp_p │  proto  │ conn_state │ local_orig │ local_resp │ missed_bytes │ history │ orig_pkts │ orig_ip_bytes │ resp_pkts │ resp_ip_bytes │     duration      │ orig_bytes │ resp_bytes │ service │\n",
       "│      double      │      varchar       │   varchar   │   int64   │   varchar   │   int64   │ varchar │  varchar   │  boolean   │  boolean   │    int64     │ varchar │   int64   │     int64     │   int64   │     int64     │      double       │   int64    │   int64    │ varchar │\n",
       "├──────────────────┼────────────────────┼─────────────┼───────────┼─────────────┼───────────┼─────────┼────────────┼────────────┼────────────┼──────────────┼─────────┼───────────┼───────────────┼───────────┼───────────────┼───────────────────┼────────────┼────────────┼─────────┤\n",
       "│ 1696019471.58856 │ Cpzele2NdNUsEeyJC5 │ 192.168.0.4 │         3 │ 192.168.0.4 │         1 │ icmp    │ OTH        │ true       │ true       │            0 │ NULL    │        28 │         16128 │         0 │             0 │ 757.7559478282928 │      15344 │          0 │ NULL    │\n",
       "└──────────────────┴────────────────────┴─────────────┴───────────┴─────────────┴───────────┴─────────┴────────────┴────────────┴────────────┴──────────────┴─────────┴───────────┴───────────────┴───────────┴───────────────┴───────────────────┴────────────┴────────────┴─────────┘"
      ]
     },
     "execution_count": 37,
     "metadata": {},
     "output_type": "execute_result"
    }
   ],
   "source": [
    "# Earlier above, we said these dataframes can be queried as if they were SQL tables. Let us verify that\n",
    "# Finding records that are not TCP traffic\n",
    "duckdb.sql(\"SELECT * FROM tmp_df WHERE proto != 'tcp' \")"
   ]
  },
  {
   "cell_type": "code",
   "execution_count": 38,
   "metadata": {},
   "outputs": [
    {
     "data": {
      "text/plain": [
       "┌───────┬───────────────┬──────────────┬───────────────┬──────────────┬─────────────┐\n",
       "│  Id   │ SepalLengthCm │ SepalWidthCm │ PetalLengthCm │ PetalWidthCm │   Species   │\n",
       "│ int64 │    double     │    double    │    double     │    double    │   varchar   │\n",
       "├───────┼───────────────┼──────────────┼───────────────┼──────────────┼─────────────┤\n",
       "│     1 │           5.1 │          3.5 │           1.4 │          0.2 │ Iris-setosa │\n",
       "│     2 │           4.9 │          3.0 │           1.4 │          0.2 │ Iris-setosa │\n",
       "│     3 │           4.7 │          3.2 │           1.3 │          0.2 │ Iris-setosa │\n",
       "│     4 │           4.6 │          3.1 │           1.5 │          0.2 │ Iris-setosa │\n",
       "│     5 │           5.0 │          3.6 │           1.4 │          0.2 │ Iris-setosa │\n",
       "│     6 │           5.4 │          3.9 │           1.7 │          0.4 │ Iris-setosa │\n",
       "│     7 │           4.6 │          3.4 │           1.4 │          0.3 │ Iris-setosa │\n",
       "│     8 │           5.0 │          3.4 │           1.5 │          0.2 │ Iris-setosa │\n",
       "│     9 │           4.4 │          2.9 │           1.4 │          0.2 │ Iris-setosa │\n",
       "│    10 │           4.9 │          3.1 │           1.5 │          0.1 │ Iris-setosa │\n",
       "├───────┴───────────────┴──────────────┴───────────────┴──────────────┴─────────────┤\n",
       "│ 10 rows                                                                 6 columns │\n",
       "└───────────────────────────────────────────────────────────────────────────────────┘"
      ]
     },
     "execution_count": 38,
     "metadata": {},
     "output_type": "execute_result"
    }
   ],
   "source": [
    "# Let us read a file from remote \n",
    "# Define the Iris URL\n",
    "iris_con = duckdb.sql(\"SELECT * FROM 'https://raw.githubusercontent.com/SecurityNik/Data-Science-and-ML/refs/heads/main/DATASETS/Iris.csv', LIMIT 10\")\n",
    "iris_con"
   ]
  },
  {
   "cell_type": "code",
   "execution_count": 39,
   "metadata": {},
   "outputs": [
    {
     "data": {
      "text/html": [
       "<div>\n",
       "<style scoped>\n",
       "    .dataframe tbody tr th:only-of-type {\n",
       "        vertical-align: middle;\n",
       "    }\n",
       "\n",
       "    .dataframe tbody tr th {\n",
       "        vertical-align: top;\n",
       "    }\n",
       "\n",
       "    .dataframe thead th {\n",
       "        text-align: right;\n",
       "    }\n",
       "</style>\n",
       "<table border=\"1\" class=\"dataframe\">\n",
       "  <thead>\n",
       "    <tr style=\"text-align: right;\">\n",
       "      <th></th>\n",
       "      <th>SepalLengthCm</th>\n",
       "      <th>Species</th>\n",
       "    </tr>\n",
       "  </thead>\n",
       "  <tbody>\n",
       "    <tr>\n",
       "      <th>0</th>\n",
       "      <td>5.1</td>\n",
       "      <td>Iris-setosa</td>\n",
       "    </tr>\n",
       "    <tr>\n",
       "      <th>1</th>\n",
       "      <td>4.9</td>\n",
       "      <td>Iris-setosa</td>\n",
       "    </tr>\n",
       "    <tr>\n",
       "      <th>2</th>\n",
       "      <td>4.7</td>\n",
       "      <td>Iris-setosa</td>\n",
       "    </tr>\n",
       "    <tr>\n",
       "      <th>3</th>\n",
       "      <td>4.6</td>\n",
       "      <td>Iris-setosa</td>\n",
       "    </tr>\n",
       "    <tr>\n",
       "      <th>4</th>\n",
       "      <td>5.0</td>\n",
       "      <td>Iris-setosa</td>\n",
       "    </tr>\n",
       "    <tr>\n",
       "      <th>5</th>\n",
       "      <td>5.4</td>\n",
       "      <td>Iris-setosa</td>\n",
       "    </tr>\n",
       "    <tr>\n",
       "      <th>6</th>\n",
       "      <td>4.6</td>\n",
       "      <td>Iris-setosa</td>\n",
       "    </tr>\n",
       "    <tr>\n",
       "      <th>7</th>\n",
       "      <td>5.0</td>\n",
       "      <td>Iris-setosa</td>\n",
       "    </tr>\n",
       "    <tr>\n",
       "      <th>8</th>\n",
       "      <td>4.4</td>\n",
       "      <td>Iris-setosa</td>\n",
       "    </tr>\n",
       "    <tr>\n",
       "      <th>9</th>\n",
       "      <td>4.9</td>\n",
       "      <td>Iris-setosa</td>\n",
       "    </tr>\n",
       "  </tbody>\n",
       "</table>\n",
       "</div>"
      ],
      "text/plain": [
       "   SepalLengthCm      Species\n",
       "0            5.1  Iris-setosa\n",
       "1            4.9  Iris-setosa\n",
       "2            4.7  Iris-setosa\n",
       "3            4.6  Iris-setosa\n",
       "4            5.0  Iris-setosa\n",
       "5            5.4  Iris-setosa\n",
       "6            4.6  Iris-setosa\n",
       "7            5.0  Iris-setosa\n",
       "8            4.4  Iris-setosa\n",
       "9            4.9  Iris-setosa"
      ]
     },
     "execution_count": 39,
     "metadata": {},
     "output_type": "execute_result"
    }
   ],
   "source": [
    "# There was no need to download the file first. \n",
    "# just extract two columns from the dataframe just to see what can be done\n",
    "iris_con.to_df()[['SepalLengthCm', 'Species']]\n"
   ]
  },
  {
   "cell_type": "code",
   "execution_count": 40,
   "metadata": {},
   "outputs": [
    {
     "data": {
      "text/html": [
       "<div>\n",
       "<style scoped>\n",
       "    .dataframe tbody tr th:only-of-type {\n",
       "        vertical-align: middle;\n",
       "    }\n",
       "\n",
       "    .dataframe tbody tr th {\n",
       "        vertical-align: top;\n",
       "    }\n",
       "\n",
       "    .dataframe thead th {\n",
       "        text-align: right;\n",
       "    }\n",
       "</style>\n",
       "<table border=\"1\" class=\"dataframe\">\n",
       "  <thead>\n",
       "    <tr style=\"text-align: right;\">\n",
       "      <th></th>\n",
       "      <th>Id</th>\n",
       "      <th>SepalLengthCm</th>\n",
       "      <th>SepalWidthCm</th>\n",
       "      <th>PetalLengthCm</th>\n",
       "      <th>PetalWidthCm</th>\n",
       "      <th>Species</th>\n",
       "    </tr>\n",
       "  </thead>\n",
       "  <tbody>\n",
       "    <tr>\n",
       "      <th>0</th>\n",
       "      <td>1</td>\n",
       "      <td>5.1</td>\n",
       "      <td>3.5</td>\n",
       "      <td>1.4</td>\n",
       "      <td>0.2</td>\n",
       "      <td>Iris-setosa</td>\n",
       "    </tr>\n",
       "    <tr>\n",
       "      <th>1</th>\n",
       "      <td>2</td>\n",
       "      <td>4.9</td>\n",
       "      <td>3.0</td>\n",
       "      <td>1.4</td>\n",
       "      <td>0.2</td>\n",
       "      <td>Iris-setosa</td>\n",
       "    </tr>\n",
       "    <tr>\n",
       "      <th>2</th>\n",
       "      <td>3</td>\n",
       "      <td>4.7</td>\n",
       "      <td>3.2</td>\n",
       "      <td>1.3</td>\n",
       "      <td>0.2</td>\n",
       "      <td>Iris-setosa</td>\n",
       "    </tr>\n",
       "    <tr>\n",
       "      <th>3</th>\n",
       "      <td>4</td>\n",
       "      <td>4.6</td>\n",
       "      <td>3.1</td>\n",
       "      <td>1.5</td>\n",
       "      <td>0.2</td>\n",
       "      <td>Iris-setosa</td>\n",
       "    </tr>\n",
       "    <tr>\n",
       "      <th>4</th>\n",
       "      <td>5</td>\n",
       "      <td>5.0</td>\n",
       "      <td>3.6</td>\n",
       "      <td>1.4</td>\n",
       "      <td>0.2</td>\n",
       "      <td>Iris-setosa</td>\n",
       "    </tr>\n",
       "    <tr>\n",
       "      <th>5</th>\n",
       "      <td>6</td>\n",
       "      <td>5.4</td>\n",
       "      <td>3.9</td>\n",
       "      <td>1.7</td>\n",
       "      <td>0.4</td>\n",
       "      <td>Iris-setosa</td>\n",
       "    </tr>\n",
       "    <tr>\n",
       "      <th>6</th>\n",
       "      <td>7</td>\n",
       "      <td>4.6</td>\n",
       "      <td>3.4</td>\n",
       "      <td>1.4</td>\n",
       "      <td>0.3</td>\n",
       "      <td>Iris-setosa</td>\n",
       "    </tr>\n",
       "    <tr>\n",
       "      <th>7</th>\n",
       "      <td>8</td>\n",
       "      <td>5.0</td>\n",
       "      <td>3.4</td>\n",
       "      <td>1.5</td>\n",
       "      <td>0.2</td>\n",
       "      <td>Iris-setosa</td>\n",
       "    </tr>\n",
       "    <tr>\n",
       "      <th>8</th>\n",
       "      <td>9</td>\n",
       "      <td>4.4</td>\n",
       "      <td>2.9</td>\n",
       "      <td>1.4</td>\n",
       "      <td>0.2</td>\n",
       "      <td>Iris-setosa</td>\n",
       "    </tr>\n",
       "    <tr>\n",
       "      <th>9</th>\n",
       "      <td>10</td>\n",
       "      <td>4.9</td>\n",
       "      <td>3.1</td>\n",
       "      <td>1.5</td>\n",
       "      <td>0.1</td>\n",
       "      <td>Iris-setosa</td>\n",
       "    </tr>\n",
       "  </tbody>\n",
       "</table>\n",
       "</div>"
      ],
      "text/plain": [
       "   Id  SepalLengthCm  SepalWidthCm  PetalLengthCm  PetalWidthCm      Species\n",
       "0   1            5.1           3.5            1.4           0.2  Iris-setosa\n",
       "1   2            4.9           3.0            1.4           0.2  Iris-setosa\n",
       "2   3            4.7           3.2            1.3           0.2  Iris-setosa\n",
       "3   4            4.6           3.1            1.5           0.2  Iris-setosa\n",
       "4   5            5.0           3.6            1.4           0.2  Iris-setosa\n",
       "5   6            5.4           3.9            1.7           0.4  Iris-setosa\n",
       "6   7            4.6           3.4            1.4           0.3  Iris-setosa\n",
       "7   8            5.0           3.4            1.5           0.2  Iris-setosa\n",
       "8   9            4.4           2.9            1.4           0.2  Iris-setosa\n",
       "9  10            4.9           3.1            1.5           0.1  Iris-setosa"
      ]
     },
     "execution_count": 40,
     "metadata": {},
     "output_type": "execute_result"
    }
   ],
   "source": [
    "# Make a connection again. This time by setting up the database\n",
    "iris_con = duckdb.connect() \n",
    "\n",
    "# Store the results in a table\n",
    "iris_con.sql(\"SELECT * FROM 'https://raw.githubusercontent.com/SecurityNik/Data-Science-and-ML/refs/heads/main/DATASETS/Iris.csv', LIMIT 10\").to_table('iris_table')\n",
    "\n",
    "# Present that table\n",
    "iris_con.table('iris_table').df()"
   ]
  },
  {
   "cell_type": "code",
   "execution_count": 41,
   "metadata": {},
   "outputs": [
    {
     "name": "stdout",
     "output_type": "stream",
     "text": [
      "┌───────────────┬─────────────────────────────────────────────────────────────────────────────────────────────────────────────────────────────────────────────────────────────────────────────────────────────────────────────────────────────────────────────────────────────────────────────────────────────────────────────────────────────────────────────────────────────────────────────────────────────────────────────────────────────────────────────────────────────────────────────────────────────────────────────────────────────────────────────────────────────────────────────────────────────────────────────────────────────────────────────────────────────────────────────────────────────────────────────────────────────────────────────────────────────────────────────────────────────────────────────────────────────────────────────────────────────────────────────────────────────────────────────────────────────────────────────────────────────────────────────────────────────────────────────────────────────────────────────────────────────────────────────────────────────────────────────────────────────────────────────────────────────────────────────────────────────────────────────────────────────────────────────────────────────────────────────────────────────────────────────────────────────────────────────────────────────────────────────────────────────────────────────────────────────────────────────────────────────────────────────────────────────────────────────────────────────────────────────────────────────────────────────────────────────────────────────────────────────────────────────────────────────────────────────────────────────────────────────────────────────────────────────────────────────────────────────────────────────────────────────────────────────────────────────────────────────────────────────────────────────────────────────────────────────────────────────────────────────────────────────────────────────────────────────────────────────────────────────────────────────────────────────────────────────────────────────────────────────────────────────────────────────────────────────────────────────────────────────────────────────────────────────────────────────────────────────────────────────────────────────────────────────────────────────────────────────────────────────────────────────────────────────────────────────────────────────────────────────────────────────────────────────────────────────────────────────────────────────────────────────────────────────────────────────────────────────────────────────────────────────────────────────────────────────────────────────────────────────────────────────────────────────────────────────────────────────────────────────────────────────────────────────────────────────────────────────────────────────────────────────────────────────────────────────────────────────────────────────────────────────────────────────────────────────────────────────────────────────────────────────────────────────────────────────────────────────────────────────────────────────────────────────────────────────────────────────────────────────────────────────────────────────────────────────────────────────────────────────────────────────────────────────────────────────────────────────────────────────────────────────────────────────────────────────────────────────────────────────────────────────────────────────────────────────────────────────────────────────────────────────────────────────────────────────────────────────────────────────┐\n",
      "│  explain_key  │                                                                                                                                                                                                                                                                                                                                                                                                                                                                                                                                                                                                                                                                                                                                                                                                                                                                                                                                                                                                                                                                                                                                                                                                                                                                                                                                                                                                                                                                                                                                                                                                                                                                                                                                                                                                        explain_value                                                                                                                                                                                                                                                                                                                                                                                                                                                                                                                                                                                                                                                                                                                                                                                                                                                                                                                                                                                                                                                                                                                                                                                                                                                                                                                                                                                                                                                                                                                                                                                                                                                                                                                                                                                                        │\n",
      "│    varchar    │                                                                                                                                                                                                                                                                                                                                                                                                                                                                                                                                                                                                                                                                                                                                                                                                                                                                                                                                                                                                                                                                                                                                                                                                                                                                                                                                                                                                                                                                                                                                                                                                                                                                                                                                                                                                           varchar                                                                                                                                                                                                                                                                                                                                                                                                                                                                                                                                                                                                                                                                                                                                                                                                                                                                                                                                                                                                                                                                                                                                                                                                                                                                                                                                                                                                                                                                                                                                                                                                                                                                                                                                                                                                           │\n",
      "├───────────────┼─────────────────────────────────────────────────────────────────────────────────────────────────────────────────────────────────────────────────────────────────────────────────────────────────────────────────────────────────────────────────────────────────────────────────────────────────────────────────────────────────────────────────────────────────────────────────────────────────────────────────────────────────────────────────────────────────────────────────────────────────────────────────────────────────────────────────────────────────────────────────────────────────────────────────────────────────────────────────────────────────────────────────────────────────────────────────────────────────────────────────────────────────────────────────────────────────────────────────────────────────────────────────────────────────────────────────────────────────────────────────────────────────────────────────────────────────────────────────────────────────────────────────────────────────────────────────────────────────────────────────────────────────────────────────────────────────────────────────────────────────────────────────────────────────────────────────────────────────────────────────────────────────────────────────────────────────────────────────────────────────────────────────────────────────────────────────────────────────────────────────────────────────────────────────────────────────────────────────────────────────────────────────────────────────────────────────────────────────────────────────────────────────────────────────────────────────────────────────────────────────────────────────────────────────────────────────────────────────────────────────────────────────────────────────────────────────────────────────────────────────────────────────────────────────────────────────────────────────────────────────────────────────────────────────────────────────────────────────────────────────────────────────────────────────────────────────────────────────────────────────────────────────────────────────────────────────────────────────────────────────────────────────────────────────────────────────────────────────────────────────────────────────────────────────────────────────────────────────────────────────────────────────────────────────────────────────────────────────────────────────────────────────────────────────────────────────────────────────────────────────────────────────────────────────────────────────────────────────────────────────────────────────────────────────────────────────────────────────────────────────────────────────────────────────────────────────────────────────────────────────────────────────────────────────────────────────────────────────────────────────────────────────────────────────────────────────────────────────────────────────────────────────────────────────────────────────────────────────────────────────────────────────────────────────────────────────────────────────────────────────────────────────────────────────────────────────────────────────────────────────────────────────────────────────────────────────────────────────────────────────────────────────────────────────────────────────────────────────────────────────────────────────────────────────────────────────────────────────────────────────────────────────────────────────────────────────────────────────────────────────────────────────────────────────────────────────────────────────────────────────────────────────────────────────────────────┤\n",
      "│ physical_plan │ \\n<!DOCTYPE html>\\n<html lang=\"en\">\\n<head>\\n    <meta charset=\"UTF-8\">\\n    <meta name=\"viewport\" content=\"width=device-width, initial-scale=1.0\">\\n    <link rel=\"stylesheet\" href=\"https://unpkg.com/treeflex/dist/css/treeflex.css\">\\n    <title>DuckDB Query Plan</title>\\n    \\n    <style>\\n        body {\\n            font-family: Arial, sans-serif;\\n        }\\n\\n        .tf-tree .tf-nc {\\n            padding: 0px;\\n            border: 1px solid #E5E5E5;\\n        }\\n\\n        .tf-nc {\\n            border-radius: 0.5rem;\\n            padding: 0px;\\n            min-width: 150px;\\n            width: auto;\\n            background-color: #FAFAFA;\\n            text-align: center;\\n            position: relative;\\n        }\\n\\n        .collapse_button {\\n            position:relative;\\n            color: black;\\n            z-index: 2;\\n            width: 2em;\\n            background-color: white;\\n            height: 2em;\\n            border-radius: 50%;\\n            top: 2.25em;\\n        }\\n\\n        .collapse_button:hover {\\n            background-color: #f0f0f0; /* Light gray */\\n        }\\n\\n        .collapse_button:active {\\n            background-color: #e0e0e0; /* Slightly darker gray */\\n        }\\n\\n        .hidden {\\n            display: none !important;\\n        }\\n\\n        .title {\\n            font-weight: bold;\\n            padding-bottom: 5px;\\n            color: #fff100;\\n            box-sizing: border-box;\\n            background-color: black;\\n            border-top-left-radius: 0.5rem;\\n            border-top-right-radius: 0.5rem;\\n            padding: 10px;\\n        }\\n\\n        .content {\\n            border-top: 1px solid #000;\\n            text-align: center;\\n            border-bottom-left-radius: 0.5rem;\\n            border-bottom-right-radius: 0.5rem;\\n            padding: 10px;\\n        }\\n\\n        .sub-title {\\n            color: black;\\n            font-weight: bold;\\n            padding-top: 5px;\\n        }\\n\\n        .sub-title:not(:first-child) {\\n            border-top: 1px solid #ADADAD;\\n        }\\n\\n        .value {\\n            margin-left: 10px;\\n            margin-top: 5px;\\n            color: #3B3B3B;\\n            margin-bottom: 5px;\\n        }\\n\\n        .tf-tree {\\n            width: 100%;\\n            height: 100%;\\n            overflow: visible;\\n        }\\n    </style>\\n    \\n</head>\\n    \\n<body>\\n    <div class=\"tf-tree\">\\n        <ul><li>\\n        <div class=\"tf-nc\">\\n            <div class=\"title\">SEQ_SCAN </div>\\n            <div class=\"content\">\\n                <div class=\"sub-title\">Text</div>\\n                <div class=\"value\">iris_table</div>\\n                <div class=\"sub-title\">Projections</div>\\n                <div class=\"value\">SepalLengthCm</div>\\n                <div class=\"sub-title\">Estimated Cardinality</div>\\n                <div class=\"value\">10</div>\\n            </div>\\n    \\n        </div>\\n    </li></ul>\\n    </div>\\n\\n<script>\\nfunction toggleDisplay(button) {\\n    const parentLi = button.closest('li');\\n    const nestedUl = parentLi.querySelector('ul');\\n    if (nestedUl) {\\n        const currentDisplay = getComputedStyle(nestedUl).getPropertyValue('display');\\n        if (currentDisplay === 'none') {\\n            nestedUl.classList.toggle('hidden');\\n            button.textContent = '-';\\n        } else {\\n            nestedUl.classList.toggle('hidden');\\n            button.textContent = '+';\\n        }\\n    }\\n}\\n</script>\\n\\n</body>\\n</html>\\n     │\n",
      "└───────────────┴─────────────────────────────────────────────────────────────────────────────────────────────────────────────────────────────────────────────────────────────────────────────────────────────────────────────────────────────────────────────────────────────────────────────────────────────────────────────────────────────────────────────────────────────────────────────────────────────────────────────────────────────────────────────────────────────────────────────────────────────────────────────────────────────────────────────────────────────────────────────────────────────────────────────────────────────────────────────────────────────────────────────────────────────────────────────────────────────────────────────────────────────────────────────────────────────────────────────────────────────────────────────────────────────────────────────────────────────────────────────────────────────────────────────────────────────────────────────────────────────────────────────────────────────────────────────────────────────────────────────────────────────────────────────────────────────────────────────────────────────────────────────────────────────────────────────────────────────────────────────────────────────────────────────────────────────────────────────────────────────────────────────────────────────────────────────────────────────────────────────────────────────────────────────────────────────────────────────────────────────────────────────────────────────────────────────────────────────────────────────────────────────────────────────────────────────────────────────────────────────────────────────────────────────────────────────────────────────────────────────────────────────────────────────────────────────────────────────────────────────────────────────────────────────────────────────────────────────────────────────────────────────────────────────────────────────────────────────────────────────────────────────────────────────────────────────────────────────────────────────────────────────────────────────────────────────────────────────────────────────────────────────────────────────────────────────────────────────────────────────────────────────────────────────────────────────────────────────────────────────────────────────────────────────────────────────────────────────────────────────────────────────────────────────────────────────────────────────────────────────────────────────────────────────────────────────────────────────────────────────────────────────────────────────────────────────────────────────────────────────────────────────────────────────────────────────────────────────────────────────────────────────────────────────────────────────────────────────────────────────────────────────────────────────────────────────────────────────────────────────────────────────────────────────────────────────────────────────────────────────────────────────────────────────────────────────────────────────────────────────────────────────────────────────────────────────────────────────────────────────────────────────────────────────────────────────────────────────────────────────────────────────────────────────────────────────────────────────────────────────────────────────────────────────────────────────────────────────────────────────────────────────────────────────────────────────────────────────────────────────────────────────────────────────────────────────────────────────────────────────────────────────────────────────────────────────┘\n",
      "\n"
     ]
    }
   ],
   "source": [
    "print(iris_con.sql(query='EXPLAIN (FORMAT HTML) SELECT SepalLengthCm FROM iris_table'))"
   ]
  },
  {
   "cell_type": "code",
   "execution_count": 45,
   "metadata": {},
   "outputs": [],
   "source": [
    "# Well if we opened a connection to a table, we should close it too\n",
    "iris_con.close()"
   ]
  },
  {
   "cell_type": "markdown",
   "metadata": {},
   "source": [
    "*References*    \n",
    "- https://duckdb.org/docs/installation/index?version=stable&environment=python  \n",
    "- https://duckdb.org/2024/03/29/external-aggregation  \n",
    "- https://duckdb.org/docs/api/python/data_ingestion.html  \n",
    "- https://duckdb.org/docs/sql/statements/create_table.html  \n",
    "- https://duckdb.org/docs/sql/statements/create_table.html  \n",
    "- https://duckdb.org/why_duckdb\n",
    "- https://motherduck.com/blog/duckdb-ecosystem-newsletter-november-2024/  \n",
    "- https://duckdb.org/2024/10/04/duckdb-user-survey-analysis.html  \n",
    "- https://practicaldataengineering.substack.com/p/building-data-pipeline-using-duckdb  \n",
    "- https://practicaldataengineering.substack.com/p/duckdb-beyond-the-hype  \n",
    "- https://duckdb.org/pdf/SIGMOD2019-demo-duckdb.pdf   \n",
    "- https://medium.com/@bruhhmx/introduction-to-duckdb-7d0b4c0de7f5  \n",
    "- https://r.duckdb.org/reference/duckdb_register.html  \n",
    "- https://duckdb.org/docs/configuration/pragmas.html  \n",
    "- https://duckdb.org/docs/configuration/overview.html   \n",
    "- https://duckdb.org/docs/guides/overview.html  \n",
    "- https://duckdb.org/2024/09/25/changing-data-with-confidence-and-acid.html  \n",
    "- https://maximebeauchemin.medium.com/functional-data-engineering-a-modern-paradigm-for-batch-data-processing-2327ec32c42a  \n",
    "- https://duckdb.org/docs/api/cli/dot_commands  \n",
    "- https://duckdb.org/2024/03/29/external-aggregation  \n",
    "- https://duckdb.org/2022/03/07/aggregate-hashtable.html  \n",
    "- https://shekhargulati.com/2019/12/15/the-5-minute-introduction-to-duckdb-the-sqlite-for-analytics/\n",
    "- https://open.spotify.com/episode/7mp1QYRJR5Q8Hg9gHACVGG  "
   ]
  }
 ],
 "metadata": {
  "kernelspec": {
   "display_name": "main_playground",
   "language": "python",
   "name": "python3"
  },
  "language_info": {
   "codemirror_mode": {
    "name": "ipython",
    "version": 3
   },
   "file_extension": ".py",
   "mimetype": "text/x-python",
   "name": "python",
   "nbconvert_exporter": "python",
   "pygments_lexer": "ipython3",
   "version": "3.12.8"
  }
 },
 "nbformat": 4,
 "nbformat_minor": 2
}
